{
 "cells": [
  {
   "cell_type": "code",
   "execution_count": null,
   "id": "01f52d3b-d86d-4eaf-96ca-e88b079710ca",
   "metadata": {},
   "outputs": [],
   "source": [
    "1 + 1"
   ]
  },
  {
   "cell_type": "code",
   "execution_count": null,
   "id": "ff61c67f-599a-4a6c-93ce-f13796bfe4c3",
   "metadata": {},
   "outputs": [],
   "source": [
    "print('Hello, Jupyter Lab Notebook!')"
   ]
  },
  {
   "cell_type": "code",
   "execution_count": null,
   "id": "ecac37f6-4932-4c91-9f52-1362cb27767d",
   "metadata": {},
   "outputs": [],
   "source": [
    "import pandas as pd\n",
    "import numpy as np\n",
    "import matplotlib.pyplot as plt\n",
    "import sklearn"
   ]
  },
  {
   "cell_type": "code",
   "execution_count": null,
   "id": "81f5aa8d-3ef9-43e1-9f01-71b2d7efe7b7",
   "metadata": {},
   "outputs": [],
   "source": []
  }
 ],
 "metadata": {
  "kernelspec": {
   "display_name": "Python 3 (ipykernel)",
   "language": "python",
   "name": "python3"
  },
  "language_info": {
   "codemirror_mode": {
    "name": "ipython",
    "version": 3
   },
   "file_extension": ".py",
   "mimetype": "text/x-python",
   "name": "python",
   "nbconvert_exporter": "python",
   "pygments_lexer": "ipython3",
   "version": "3.12.7"
  }
 },
 "nbformat": 4,
 "nbformat_minor": 5
}
