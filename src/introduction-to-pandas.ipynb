{
 "cells": [
  {
   "cell_type": "code",
   "execution_count": null,
   "id": "4e740818-1be7-4bbe-a7eb-35d7ba683e19",
   "metadata": {},
   "outputs": [],
   "source": [
    "# Start by importing pandas\n",
    "import pandas as pd"
   ]
  },
  {
   "cell_type": "code",
   "execution_count": null,
   "id": "27af0739-4a58-47dc-b21a-707fc6d1f690",
   "metadata": {},
   "outputs": [],
   "source": [
    "# Two main data types\n",
    "series = pd.Series([\"BMW\", \"Toyota\", \"Honda\"])"
   ]
  },
  {
   "cell_type": "code",
   "execution_count": null,
   "id": "b9f63eda-b06d-469f-b50a-8e41c100abaf",
   "metadata": {},
   "outputs": [],
   "source": [
    "series"
   ]
  },
  {
   "cell_type": "code",
   "execution_count": null,
   "id": "37a04581-679d-4015-ac72-5e248978af58",
   "metadata": {},
   "outputs": [],
   "source": [
    "# Series are **one-dimensional**"
   ]
  },
  {
   "cell_type": "code",
   "execution_count": null,
   "id": "cd370e4f-1904-4ef3-a2fa-a14dfc7b9085",
   "metadata": {},
   "outputs": [],
   "source": [
    "colors = pd.Series([\"Red\", \"Blue\", \"White\"])\n",
    "colors"
   ]
  },
  {
   "cell_type": "code",
   "execution_count": null,
   "id": "3f7ab2b5-74c2-46fd-93f7-2ca3f155bb4d",
   "metadata": {},
   "outputs": [],
   "source": [
    "# DataFrame is **two-dimensional**\n",
    "# Far more common than `Series`\n",
    "car_data = pd.DataFrame({\"Car make\": series, \"Color\": colors})"
   ]
  },
  {
   "cell_type": "code",
   "execution_count": null,
   "id": "76e59c7b-cfa3-4ec1-8f52-801bcd6a6fc6",
   "metadata": {},
   "outputs": [],
   "source": [
    "# Far more typical to **import** data\n",
    "car_sales = pd.read_csv('car-sales.csv')"
   ]
  },
  {
   "cell_type": "code",
   "execution_count": null,
   "id": "cde027ea-08ab-4b31-ab6b-05c3232f2866",
   "metadata": {},
   "outputs": [],
   "source": [
    "# Remember, this file contains a **small** amount of data\n",
    "car_sales"
   ]
  },
  {
   "cell_type": "code",
   "execution_count": null,
   "id": "31aad15b-63d0-4f27-8229-0e105ae69c45",
   "metadata": {},
   "outputs": [],
   "source": [
    "# Exporting a DataFrame\n",
    "# (Even though it is **unchanged**.)\n",
    "# Can also export to Excel (`to_excel()`) (or other fomats).\n",
    "# Adding the parameter, `index=False`, prevents pandas from exporting the index column.\n",
    "car_sales.to_csv('exported-car-sales.csv', index=False)"
   ]
  },
  {
   "cell_type": "code",
   "execution_count": null,
   "id": "0db4f723-e988-4602-997c-42f838e27ccc",
   "metadata": {},
   "outputs": [],
   "source": [
    "exported_car_sales = pd.read_csv('exported-car-sales.csv')\n",
    "exported_car_sales"
   ]
  },
  {
   "cell_type": "markdown",
   "id": "d346d388-75f0-42f6-b6d3-309f42405025",
   "metadata": {},
   "source": [
    "## Describe data"
   ]
  },
  {
   "cell_type": "code",
   "execution_count": null,
   "id": "16a11483-b782-4240-8aab-a11954acf450",
   "metadata": {},
   "outputs": [],
   "source": [
    "# Attribute (no function call)\n",
    "# Queries the data types for our data frame\n",
    "car_sales.dtypes\n",
    "\n",
    "# Function\n",
    "# car_sales.to_csv() (Notice function operator `())"
   ]
  },
  {
   "cell_type": "code",
   "execution_count": null,
   "id": "f5f96237-1348-4f37-8443-69dfe368da01",
   "metadata": {},
   "outputs": [],
   "source": [
    "car_sales.columns"
   ]
  },
  {
   "cell_type": "code",
   "execution_count": null,
   "id": "9f0d6253-6af9-4c90-aaab-88a155fd4119",
   "metadata": {},
   "outputs": [],
   "source": [
    "car_columns = car_sales.columns\n",
    "car_columns"
   ]
  },
  {
   "cell_type": "code",
   "execution_count": null,
   "id": "f1e0e3f2-2396-4ce7-aa11-725948e2c4bd",
   "metadata": {},
   "outputs": [],
   "source": [
    "# A mistake\n",
    "try:\n",
    "    car_columns.index\n",
    "except Exception as e:\n",
    "    print(f'An error occurred: {e}')"
   ]
  },
  {
   "cell_type": "code",
   "execution_count": null,
   "id": "6c0daaf6-80b2-4dd5-926e-41f76bec0dba",
   "metadata": {},
   "outputs": [],
   "source": [
    "car_sales.index"
   ]
  },
  {
   "cell_type": "code",
   "execution_count": null,
   "id": "aae339f7-60d2-4736-adc2-9d819a12bb97",
   "metadata": {},
   "outputs": [],
   "source": [
    "car_sales"
   ]
  },
  {
   "cell_type": "code",
   "execution_count": null,
   "id": "ef2b5258-f975-4cd9-8f5a-a99312615dac",
   "metadata": {},
   "outputs": [],
   "source": [
    "# We've looked at attributes. Now let's call some functions.\n",
    "car_sales.describe()"
   ]
  },
  {
   "cell_type": "code",
   "execution_count": null,
   "id": "5825792b-1d23-4e63-8b02-d47c8417d038",
   "metadata": {},
   "outputs": [],
   "source": [
    "car_sales.info()"
   ]
  },
  {
   "cell_type": "code",
   "execution_count": null,
   "id": "bdd95495-e129-4ce8-8877-e897267b02b0",
   "metadata": {},
   "outputs": [],
   "source": [
    "# The behavior of `mean()` has apparently changed since the video was released. \n",
    "# In the video, `car_sales.mean()` only returned the arithmetic mean of **numeric**\n",
    "# columns. Currently, this function **fails** because of the non-numeric columns.\n",
    "try:\n",
    "    car_sales.mean()\n",
    "except Exception as e:\n",
    "    print(f'`mean()` no longer handles non-numeric columns\\n  {e}')"
   ]
  },
  {
   "cell_type": "code",
   "execution_count": null,
   "id": "bc26f35f-cf79-422c-b9b7-91874bfe7873",
   "metadata": {},
   "outputs": [],
   "source": [
    "# To \"restore\" the behavior in the video, execute\n",
    "car_sales.mean(numeric_only=True)"
   ]
  },
  {
   "cell_type": "code",
   "execution_count": null,
   "id": "e619cd0c-66a1-4bb5-9a5e-2899d430a4b2",
   "metadata": {},
   "outputs": [],
   "source": [
    "# Invoking `mean()` on a `Series`\n",
    "car_prices = pd.Series([3000, 1500, 111250])\n",
    "car_prices.mean()"
   ]
  },
  {
   "cell_type": "code",
   "execution_count": null,
   "id": "6abec50d-db50-4469-9545-25197b5314a0",
   "metadata": {},
   "outputs": [],
   "source": [
    "car_sales.sum()"
   ]
  },
  {
   "cell_type": "code",
   "execution_count": null,
   "id": "acb033e1-71b5-4a54-b573-f373505f07d0",
   "metadata": {},
   "outputs": [],
   "source": [
    "car_sales['Odometer (KM)'].sum()"
   ]
  },
  {
   "cell_type": "code",
   "execution_count": null,
   "id": "9ca0a7f0-f898-4f3d-b5e5-79f86bd44d57",
   "metadata": {},
   "outputs": [],
   "source": [
    "car_sales['Doors'].sum()"
   ]
  },
  {
   "cell_type": "code",
   "execution_count": null,
   "id": "151761f5-66e8-4b86-91bd-9236f7694f46",
   "metadata": {},
   "outputs": [],
   "source": [
    "car_sales['Doors'].mean()"
   ]
  },
  {
   "cell_type": "code",
   "execution_count": null,
   "id": "35f1d89d-f3b4-4103-b90d-f9871294e47f",
   "metadata": {},
   "outputs": [],
   "source": [
    "car_sales['Doors'].max()"
   ]
  },
  {
   "cell_type": "code",
   "execution_count": null,
   "id": "57ec1844-64dd-42df-8780-86e3fc591f2e",
   "metadata": {},
   "outputs": [],
   "source": [
    "len(car_sales)"
   ]
  },
  {
   "cell_type": "markdown",
   "id": "988b7429-e3f0-40fc-a9da-cbc84367421e",
   "metadata": {},
   "source": [
    "## Viewing and selecting data"
   ]
  },
  {
   "cell_type": "code",
   "execution_count": null,
   "id": "7709530a-1d3f-4d35-bd3e-e8723e84160e",
   "metadata": {},
   "outputs": [],
   "source": [
    "# Displays the first five (5) rows of a `DataFrame` (the default value)\n",
    "car_sales.head()"
   ]
  },
  {
   "cell_type": "code",
   "execution_count": null,
   "id": "fdc6da90-3e13-4796-a555-94af4ad1aa7e",
   "metadata": {},
   "outputs": [],
   "source": [
    "car_sales"
   ]
  },
  {
   "cell_type": "code",
   "execution_count": null,
   "id": "dfa7389e-e283-4cfa-8413-fc2ebd873eb3",
   "metadata": {},
   "outputs": [],
   "source": [
    "# Displays the first **7** rows of the `DataFrame`\n",
    "car_sales.head(7)"
   ]
  },
  {
   "cell_type": "code",
   "execution_count": null,
   "id": "65652c9a-ad34-406d-bf83-2c5eda8c2bd1",
   "metadata": {},
   "outputs": [],
   "source": [
    "# Displays the **last** five (5) rows of a `DataFrame`\n",
    "car_sales.tail()"
   ]
  },
  {
   "cell_type": "code",
   "execution_count": null,
   "id": "0a71288b-cd53-4cda-8e42-f49091bfd950",
   "metadata": {},
   "outputs": [],
   "source": [
    "# Similarly, supplying an argument changes the number of rows displayed.\n",
    "car_sales.tail(3)"
   ]
  },
  {
   "cell_type": "code",
   "execution_count": null,
   "id": "52554c8c-5d61-4920-b833-cd3b71d90ef2",
   "metadata": {},
   "outputs": [],
   "source": [
    "# .loc and .iloc\n",
    "animals = pd.Series(['cat', 'dog', 'bird', 'panda', 'snake'])\n",
    "animals"
   ]
  },
  {
   "cell_type": "code",
   "execution_count": null,
   "id": "9dfedb27-a6d6-4d21-a396-287bd6bed2d5",
   "metadata": {},
   "outputs": [],
   "source": [
    "# One can also create a `Series` with a **custom** index\n",
    "animals = pd.Series(['cat', 'dog', 'bird', 'panda', 'snake'],\n",
    "                    index=[0, 3, 9, 8, 3]);\n",
    "animals"
   ]
  },
  {
   "cell_type": "code",
   "execution_count": null,
   "id": "c2dea8d1-7d2a-4e22-8a20-bcaa6895044d",
   "metadata": {},
   "outputs": [],
   "source": [
    "# Returns the items in `animals` with an index value of 3\n",
    "animals.loc[3]\n",
    "# Because `animals` has an Index containing the \n",
    "# number three (3) **twice**, this expression returns the\n",
    "# two items of the `Series` whose index value equals 3."
   ]
  },
  {
   "cell_type": "code",
   "execution_count": null,
   "id": "f4cab406-3700-4430-9b54-503cf5e9415c",
   "metadata": {},
   "outputs": [],
   "source": [
    "animals.loc[9]\n",
    "# Because the specified index identifies exactyl one item,\n",
    "# this expression returns a single value (not a `Series`)."
   ]
  },
  {
   "cell_type": "code",
   "execution_count": null,
   "id": "e5cfd923-b507-4dcc-b41b-bb6cece9e100",
   "metadata": {},
   "outputs": [],
   "source": [
    "# What if we want to get rows of a `DataFrame`?\n",
    "car_sales"
   ]
  },
  {
   "cell_type": "code",
   "execution_count": null,
   "id": "e63e969f-2b9d-4b80-9add-b987874f69eb",
   "metadata": {},
   "outputs": [],
   "source": [
    "# Returns the \"row\" item at index 3.\n",
    "car_sales.loc[3]"
   ]
  },
  {
   "cell_type": "code",
   "execution_count": null,
   "id": "cd02a974-e58b-4b5f-bb92-34986d402c1c",
   "metadata": {},
   "outputs": [],
   "source": [
    "# `.iloc` refers to **position** of item in the `Series` or `DataFrame`.\n",
    "# `.loc` refers to the **index** of the `Series` or `DataFrame`.\n",
    "animals.iloc[3]"
   ]
  },
  {
   "cell_type": "code",
   "execution_count": null,
   "id": "e3e2d2e9-32a9-47ed-ad2c-171d89f958de",
   "metadata": {},
   "outputs": [],
   "source": [
    "car_sales.iloc[3]"
   ]
  },
  {
   "cell_type": "code",
   "execution_count": null,
   "id": "dbce852b-3dc7-4cfa-ae8f-f56f560b3fde",
   "metadata": {},
   "outputs": [],
   "source": [
    "# Since the `Index` of `car_sales` has not been changed since\n",
    "# we created the `DataFrame`, calling `loc[3]` will return the\n",
    "# same item as calling `iloc[3]`.\n",
    "car_sales.loc[3]"
   ]
  },
  {
   "cell_type": "code",
   "execution_count": null,
   "id": "bf1ccd48-dcc2-4c22-aac2-6d6f62ccf16e",
   "metadata": {},
   "outputs": [],
   "source": [
    "# Give us the animals whose integer indices are 0, 1, and 2;\n",
    "# that is, the slice `[:3]`\n",
    "animals.iloc[:3]"
   ]
  },
  {
   "cell_type": "code",
   "execution_count": null,
   "id": "d9244faf-8585-45cc-96c2-9b4c9d65bc5d",
   "metadata": {},
   "outputs": [],
   "source": [
    "car_sales.loc[:3]"
   ]
  },
  {
   "cell_type": "code",
   "execution_count": null,
   "id": "396d8f73-f6db-497b-9a00-b416dccd5d2e",
   "metadata": {},
   "outputs": [],
   "source": [
    "car_sales.iloc[:3]"
   ]
  },
  {
   "cell_type": "code",
   "execution_count": null,
   "id": "017190b7-5a5f-42bc-b4df-2fb2bcda365f",
   "metadata": {},
   "outputs": [],
   "source": [
    "# BEWARE, `loc[:3]` and `iloc[:3]` have **different** semantics!\n",
    "car_sales.loc[:3] is not car_sales.iloc[:3]"
   ]
  },
  {
   "cell_type": "code",
   "execution_count": null,
   "id": "7bdd1b4f-02f5-404f-8700-1b680a95d1b2",
   "metadata": {},
   "outputs": [],
   "source": [
    "# But, `car_sales.loc[:3] == car_sales.head(4)`\n",
    "car_sales.loc[:3] == car_sales.head(4)"
   ]
  },
  {
   "cell_type": "code",
   "execution_count": null,
   "id": "7f2e134a-645c-4f3c-8e9b-90b6c4060dfa",
   "metadata": {},
   "outputs": [],
   "source": [
    "# Using array indexing with a **column name** selects\n",
    "# all the items in a single column.\n",
    "car_sales['Make']"
   ]
  },
  {
   "cell_type": "code",
   "execution_count": null,
   "id": "91b99c3e-9efb-46bd-97b6-c9165e90ff3e",
   "metadata": {},
   "outputs": [],
   "source": [
    "# Also\n",
    "car_sales['Colour']"
   ]
  },
  {
   "cell_type": "code",
   "execution_count": null,
   "id": "97185de7-d2d5-440b-9d50-fed75d43e8e1",
   "metadata": {},
   "outputs": [],
   "source": [
    "# An alternative to using the array operator to select\n",
    "# a column is the dot operator (`.`) followed by the name\n",
    "# of the column\n",
    "car_sales.Make"
   ]
  },
  {
   "cell_type": "code",
   "execution_count": null,
   "id": "6dfb2348-f0ba-4ab4-883c-684e306b4f00",
   "metadata": {},
   "outputs": [],
   "source": [
    "car_sales['Make'] == car_sales.Make"
   ]
  },
  {
   "cell_type": "code",
   "execution_count": null,
   "id": "edf9c957-a6de-4196-8395-e64dfccd4d65",
   "metadata": {},
   "outputs": [],
   "source": [
    "# Using array indexing works for **any** column name even\n",
    "# if it is **not** a valid Python identifier\n",
    "car_sales['Odometer (KM)']"
   ]
  },
  {
   "cell_type": "code",
   "execution_count": null,
   "id": "9fec67c5-8714-419d-8fd8-6d16490c319d",
   "metadata": {},
   "outputs": [],
   "source": [
    "# However, using the dot (`.`) operator only works if the \n",
    "# column name is also a **valid Python identifier**. \n",
    "# For example,\n",
    "try:\n",
    "    car_sales.Odometer (KM)\n",
    "except Exception as e:\n",
    "    print(e)"
   ]
  },
  {
   "cell_type": "code",
   "execution_count": null,
   "id": "d4a4d280-4fd6-4032-a1ce-be9673c3fed4",
   "metadata": {},
   "outputs": [],
   "source": [
    "# One can **filter** `DataFrame` rows by **value**. For example,\n",
    "car_sales[car_sales['Make'] == 'Toyota']\n",
    "# The expression, `car_sales['Make'] == 'Toyota'` is called\n",
    "# \"Boolean indexing\""
   ]
  },
  {
   "cell_type": "code",
   "execution_count": null,
   "id": "cfe9fbf2-e15f-4ba1-9817-fdcc61f7d143",
   "metadata": {},
   "outputs": [],
   "source": [
    "# One can also use other operators in Boolean indexing. \n",
    "# For example,\n",
    "car_sales[car_sales['Odometer (KM)'] > 100000]"
   ]
  },
  {
   "cell_type": "code",
   "execution_count": null,
   "id": "b615a20a-64b0-4690-9cfd-2070567df28f",
   "metadata": {},
   "outputs": [],
   "source": [
    "car_sales"
   ]
  },
  {
   "cell_type": "code",
   "execution_count": null,
   "id": "402ba345-aa7e-45f7-87de-2524411bface",
   "metadata": {},
   "outputs": [],
   "source": [
    "# Compares the number of doors available for each car make\n",
    "pd.crosstab(car_sales['Make'], car_sales['Doors'])"
   ]
  },
  {
   "cell_type": "code",
   "execution_count": null,
   "id": "c19c7e92-7a82-4d3b-b86a-ab84a468cee1",
   "metadata": {},
   "outputs": [],
   "source": [
    "# The `groupby()` method groups the values of a specified\n",
    "# `DataFrame` column according to common values.\n",
    "#\n",
    "# Remember, the `mean()` function is one of the functions\n",
    "# whose semantics about handling non-numeric values has \n",
    "# changed since the videos came out.\n",
    "car_sales.groupby(['Make']).mean(numeric_only=True)"
   ]
  },
  {
   "cell_type": "code",
   "execution_count": null,
   "id": "49e4e434-30c1-4df7-a11a-e969f114e8e5",
   "metadata": {},
   "outputs": [],
   "source": [
    "# Plot all the values in a single column of a `DataFrame`.\n",
    "# This command actually plots the values of the specified \n",
    "# column on the y-axis against the values in the index \n",
    "# on the x-axis.\n",
    "car_sales['Odometer (KM)'].plot()"
   ]
  },
  {
   "cell_type": "code",
   "execution_count": null,
   "id": "dc5c1f62-c86b-4f26-a5b4-63f21b41727b",
   "metadata": {},
   "outputs": [],
   "source": [
    "car_sales['Odometer (KM)'].hist()"
   ]
  },
  {
   "cell_type": "code",
   "execution_count": null,
   "id": "25708bbb-37a8-4490-8c0a-e9cd17e4e462",
   "metadata": {},
   "outputs": [],
   "source": [
    "# Attempting to plot the 'Price' column fails because the\n",
    "# 'Price' column is **not** numeric (in this `DataFrame`).\n",
    "try:\n",
    "    car_sales['Price'].plot()\n",
    "except TypeError as te:\n",
    "    print(te)"
   ]
  },
  {
   "cell_type": "code",
   "execution_count": null,
   "id": "a7a712f7-427c-41a1-870d-62a1626d4bb2",
   "metadata": {},
   "outputs": [],
   "source": [
    "# The following expression returns `dtype('O'). This data \n",
    "# type is the **object** data type (not a numeric type).\n",
    "car_sales['Price'].dtype"
   ]
  },
  {
   "cell_type": "code",
   "execution_count": null,
   "id": "46ce5fcb-aac7-44fa-8e1c-0912150478c6",
   "metadata": {},
   "outputs": [],
   "source": [
    "# Go by (from StackOverflow)\n",
    "# dataframe['amount'] = dataframe['amount'].str.replace('[\\$\\,\\.]', '').astype(int)\n",
    "car_sales['NumericPrice'] =  (\n",
    "    car_sales['Price']\n",
    "    .str\n",
    "    .replace('[$,.]', '',  regex=True).astype(int) // 100\n",
    ")\n",
    "car_sales['NumericPrice']\n",
    "# Again, notice changes for my version of `pandas`. I change \n",
    "# the first argument by removing backslashes ('\\')"
   ]
  },
  {
   "cell_type": "markdown",
   "id": "10ca601b-14f0-4bd7-954d-1aea06f7a634",
   "metadata": {},
   "source": [
    "## Manipulating Data"
   ]
  },
  {
   "cell_type": "code",
   "execution_count": null,
   "id": "e88ae30d-e02c-45e0-a9c1-1be52a25447e",
   "metadata": {},
   "outputs": [],
   "source": [
    "# Python (and pandas) have a number of string methods\n",
    "car_sales['Make'].str.lower()\n",
    "\n",
    "# Remember that this expression returns a **new** `Series`\n",
    "# whose items are the lower case values of the `Make`\n",
    "# column in the **original** `DataFrame`"
   ]
  },
  {
   "cell_type": "code",
   "execution_count": null,
   "id": "964d54e8-7992-4ed1-b5f5-d360bb37bee4",
   "metadata": {},
   "outputs": [],
   "source": [
    "car_sales"
   ]
  },
  {
   "cell_type": "code",
   "execution_count": null,
   "id": "4f26533e-aa40-4c10-a8f0-b1e811cc160b",
   "metadata": {},
   "outputs": [],
   "source": [
    "# Notice that `car_sales` is unchanged by our previous code. \n",
    "# This behavior is **typical** of `DataFrame` instances. To\n",
    "# change the column in the original `DataFrame` instance, one\n",
    "# must assign the transformed value **back** to the original \n",
    "# `DataFrame` column.\n",
    "car_sales['Make'] = car_sales['Make'].str.lower()\n",
    "car_sales"
   ]
  },
  {
   "cell_type": "code",
   "execution_count": null,
   "id": "5fd0c678-f578-4e19-8a23-5ef487915003",
   "metadata": {},
   "outputs": [],
   "source": [
    "# Remove the Price column; rename 'NumericPrice'\n",
    "car_sales['Price'] = car_sales['NumericPrice']\n",
    "car_sales.drop(columns=['NumericPrice'], inplace=True)\n",
    "car_sales"
   ]
  },
  {
   "cell_type": "code",
   "execution_count": null,
   "id": "f9b7b87a-3c90-49d6-968e-a7a021faae9f",
   "metadata": {},
   "outputs": [],
   "source": [
    "car_sales_missing = pd.read_csv('car-sales-missing-data.csv')\n",
    "car_sales_missing"
   ]
  },
  {
   "cell_type": "code",
   "execution_count": null,
   "id": "2affc2b1-2cf3-4ffa-80da-4c86f220f8e5",
   "metadata": {},
   "outputs": [],
   "source": [
    "# One sometimes chooses to fill missing (`NaN`) values with\n",
    "# other values in the `DataFrame` (column). For example, one\n",
    "# might fill missing values in the \"Odometer\" column with the\n",
    "# `mean()` (of all the values that are **not** `NaN`).\n",
    "car_sales_missing['Odometer'].fillna(car_sales_missing['Odometer'].mean())"
   ]
  },
  {
   "cell_type": "code",
   "execution_count": null,
   "id": "d7d2f208-b7ec-4d65-9d4d-433abb19fb24",
   "metadata": {},
   "outputs": [],
   "source": [
    "# Let's look at the `DataFrame` itself\n",
    "car_sales_missing"
   ]
  },
  {
   "cell_type": "code",
   "execution_count": null,
   "id": "a7952ed3-09d4-4bf7-90dc-d60e91c6d878",
   "metadata": {},
   "outputs": [],
   "source": [
    "# Notice that the original data **still** contains `NaN`\n",
    "# values in the 'Odometer' column. We could simply assign \n",
    "# the result of our expressing using `fillna()` back to\n",
    "# `car_sales_missing['Odometer']`; however, we will actually\n",
    "# us the `inplace=True` parameter instead.\n",
    "car_sales_missing['Odometer'].fillna(car_sales_missing['Odometer'].mean(), inplace=True)"
   ]
  },
  {
   "cell_type": "code",
   "execution_count": null,
   "id": "12f93a6f-ef36-4961-8811-07677665eb37",
   "metadata": {},
   "outputs": [],
   "source": [
    "# Apparently, we have found a **change** in `pandas` future\n",
    "# behavior. The code works, but will fail in a future release.\n",
    "car_sales_missing"
   ]
  },
  {
   "cell_type": "code",
   "execution_count": null,
   "id": "45601b9b-c152-4f5d-9b1e-65460fdb9334",
   "metadata": {},
   "outputs": [],
   "source": [
    "# FYI. The author recommends using an **explicit** assignment;\n",
    "# that is, \n",
    "car_sales_missing['Odometer'] = (\n",
    "    car_sales_missing['Odometer'].fillna(car_sales_missing['Odometer'].mean())\n",
    ")\n",
    "car_sales_missing"
   ]
  },
  {
   "cell_type": "code",
   "execution_count": null,
   "id": "c7c34bab-d0c7-4197-a210-8f9607be32ea",
   "metadata": {},
   "outputs": [],
   "source": [
    "# Suppose we are happy with our handling of `NaN` values\n",
    "# for the \"Odometer\" column, but we actuall want to \n",
    "# **ignore** all missing values in all other columns.\n",
    "\n",
    "# To accomplish this goal, we can use the `dropna()` \n",
    "# method of the `DataFrame`. However, again, this\n",
    "# method **does not** drop values **in place**.\n",
    "car_sales_missing.dropna()"
   ]
  },
  {
   "cell_type": "code",
   "execution_count": null,
   "id": "7fc82150-9c86-4496-990e-afeb0d78fc44",
   "metadata": {},
   "outputs": [],
   "source": [
    "car_sales_missing"
   ]
  },
  {
   "cell_type": "code",
   "execution_count": null,
   "id": "bde3671c-2f90-4252-8a65-5c14cb20ec02",
   "metadata": {},
   "outputs": [],
   "source": [
    "car_sales_missing.dropna(inplace=True)"
   ]
  },
  {
   "cell_type": "code",
   "execution_count": null,
   "id": "21f83f4c-328d-475a-801d-d0713dca5845",
   "metadata": {},
   "outputs": [],
   "source": [
    "car_sales_missing"
   ]
  },
  {
   "cell_type": "code",
   "execution_count": null,
   "id": "3d121a8b-cb61-4104-8ddd-fa4bd233797c",
   "metadata": {},
   "outputs": [],
   "source": [
    "# But what if we want to access our original data?\n",
    "car_sales_missing = pd.read_csv('car-sales-missing-data.csv')\n",
    "car_sales_missing"
   ]
  },
  {
   "cell_type": "code",
   "execution_count": null,
   "id": "7d31eb80-4edf-4aa0-b0d9-8fd3b714da79",
   "metadata": {},
   "outputs": [],
   "source": [
    "car_sales_missing['Odometer'] = (\n",
    "    car_sales_missing['Odometer'].fillna(car_sales_missing['Odometer'].mean())\n",
    ")\n",
    "car_sales_missing"
   ]
  },
  {
   "cell_type": "code",
   "execution_count": null,
   "id": "7f7bd2e7-d468-44f8-b4c1-6a8e0b51a466",
   "metadata": {},
   "outputs": [],
   "source": [
    "car_sales_missing_dropped = car_sales_missing.dropna()\n",
    "car_sales_missing_dropped"
   ]
  },
  {
   "cell_type": "code",
   "execution_count": null,
   "id": "5074bf4f-4074-4651-b940-7e1872310878",
   "metadata": {},
   "outputs": [],
   "source": [
    "car_sales_missing_dropped.to_csv('car_sales_missing_dropped.csv')"
   ]
  },
  {
   "cell_type": "code",
   "execution_count": null,
   "id": "46df4523-eb8d-42e8-b02c-430e822c406e",
   "metadata": {},
   "outputs": [],
   "source": [
    "car_sales"
   ]
  },
  {
   "cell_type": "code",
   "execution_count": null,
   "id": "d9cd2e16-2e49-4019-824a-6aae4c9872cf",
   "metadata": {},
   "outputs": [],
   "source": [
    "# Column from series\n",
    "seats_column = pd.Series([5, 5, 5, 5, 5])\n",
    "\n",
    "# Add a new column by assinging data to a non-existent but named column\n",
    "car_sales['Seats'] = seats_column\n",
    "car_sales"
   ]
  },
  {
   "cell_type": "code",
   "execution_count": null,
   "id": "cf984753-0e47-499b-b002-e5c0a535a04c",
   "metadata": {},
   "outputs": [],
   "source": [
    "# H2 fill in the `NaN` values in the 'Seats' column\n",
    "car_sales['Seats'] = car_sales['Seats'].fillna(5.0)\n",
    "car_sales"
   ]
  },
  {
   "cell_type": "code",
   "execution_count": null,
   "id": "fc3d4275-d789-4209-8db4-7fe99acf8019",
   "metadata": {},
   "outputs": [],
   "source": [
    "# Column from Python `list`\n",
    "fuel_economy = [7.5, 9.2, 5.0, 9.6, 8.7]\n",
    "\n",
    "try:\n",
    "    car_sales['Fuel per 100km'] = fuel_economy\n",
    "except ValueError as ve:\n",
    "    print(ve)"
   ]
  },
  {
   "cell_type": "code",
   "execution_count": null,
   "id": "305e4aa9-9142-4147-bc4c-f92d4e4ac78d",
   "metadata": {},
   "outputs": [],
   "source": [
    "len(car_sales)"
   ]
  },
  {
   "cell_type": "code",
   "execution_count": null,
   "id": "b9bfc214-bc3f-4256-8239-5ffa1dfaf6a8",
   "metadata": {},
   "outputs": [],
   "source": [
    "# Column from Python `list` (that has the same length as `DataFrame` rows)\n",
    "fuel_economy = [7.5, 9.2, 5.0, 9.6, 8.7, 4.7, 7.6, 8.7, 3.0, 4.5]\n",
    "len(fuel_economy)"
   ]
  },
  {
   "cell_type": "code",
   "execution_count": null,
   "id": "c3d33232-c395-4ddd-9109-fa6267669872",
   "metadata": {},
   "outputs": [],
   "source": [
    "len(car_sales) == len(fuel_economy)"
   ]
  },
  {
   "cell_type": "code",
   "execution_count": null,
   "id": "8a0381f0-0290-4ece-9bff-2c868d953483",
   "metadata": {},
   "outputs": [],
   "source": [
    "car_sales['Fuel per 100km'] = fuel_economy\n",
    "car_sales"
   ]
  },
  {
   "cell_type": "code",
   "execution_count": null,
   "id": "37681ac2-0c4d-41b6-9895-19cf1069ca74",
   "metadata": {},
   "outputs": [],
   "source": [
    "# Suppose I wanted to add a column whose values are \n",
    "# calculated from the values of other `DataFrame`\n",
    "# columns. Specifically, let's add a column for total\n",
    "# fuel consumed over the lifetime of the car.\n",
    "car_sales['Total Fuel Used'] = (\n",
    "    (car_sales['Odometer (KM)'] / 100) * car_sales['Fuel per 100km']\n",
    ")\n",
    "car_sales"
   ]
  },
  {
   "cell_type": "code",
   "execution_count": null,
   "id": "cfdd752b-b4c1-4acb-80ad-334da40a6dee",
   "metadata": {},
   "outputs": [],
   "source": [
    "# Oops! I forgot to specify the units for fuel used.\n",
    "car_sales['Total Fuel Used (L)'] = (\n",
    "    (car_sales['Odometer (KM)'] / 100) * car_sales['Fuel per 100km']\n",
    ")\n",
    "car_sales"
   ]
  },
  {
   "cell_type": "code",
   "execution_count": null,
   "id": "ab5348f9-20cd-422c-88a7-01e79be03626",
   "metadata": {},
   "outputs": [],
   "source": [
    "# Create a column from a single value\n",
    "car_sales['Number of Wheels'] = 4\n",
    "car_sales"
   ]
  },
  {
   "cell_type": "code",
   "execution_count": null,
   "id": "1d4c12dc-7c5d-44a2-8056-76876caa3d49",
   "metadata": {},
   "outputs": [],
   "source": [
    "car_sales['Passed Road Safety'] = True\n",
    "car_sales"
   ]
  },
  {
   "cell_type": "code",
   "execution_count": null,
   "id": "769dfc63-0af0-48ab-9f64-93db85e1382f",
   "metadata": {},
   "outputs": [],
   "source": [
    "# Notice the different types of columns\n",
    "car_sales.dtypes"
   ]
  },
  {
   "cell_type": "code",
   "execution_count": null,
   "id": "5f86080c-dafb-475e-b797-cf827f06d42c",
   "metadata": {},
   "outputs": [],
   "source": [
    "# I do not need **both** the \"Total Fuel Used...\" columns\n",
    "car_sales = car_sales.drop('Total Fuel Used', axis=1)\n",
    "car_sales"
   ]
  },
  {
   "cell_type": "code",
   "execution_count": null,
   "id": "2c530213-3845-4b09-b502-2a01ba4ce91d",
   "metadata": {},
   "outputs": [],
   "source": [
    "# Shuffle some fraction of the data for sampling.\n",
    "car_sales.sample(frac=1)"
   ]
  },
  {
   "cell_type": "code",
   "execution_count": null,
   "id": "1338ff2e-5a21-4e3a-b9f5-4a6f59f9de4d",
   "metadata": {},
   "outputs": [],
   "source": [
    "# This call shuffled the requested fraction, but returned\n",
    "# a \"temporary\" object. The folliwng code assigns the \n",
    "# shuffled code in a new variable for later use.\n",
    "car_sales_shuffled = car_sales.sample(frac=1)\n",
    "car_sales_shuffled"
   ]
  },
  {
   "cell_type": "code",
   "execution_count": null,
   "id": "bbb043d4-241b-4c46-978a-5e69f5f1f216",
   "metadata": {},
   "outputs": [],
   "source": [
    "# Only select 20% of the data to work on right now.\n",
    "# The 20% is arbitrary. As an engineer, you will need to\n",
    "# judge the amount of data your need to trade-off time\n",
    "# of operations and the goal you are trying to achieve.\n",
    "car_sales_shuffled.sample(frac=0.2)"
   ]
  },
  {
   "cell_type": "code",
   "execution_count": null,
   "id": "7573cbcf-95c1-4715-a2b3-665de43de4d2",
   "metadata": {},
   "outputs": [],
   "source": [
    "car_sales_shuffled.reset_index()\n",
    "car_sales_shuffled"
   ]
  },
  {
   "cell_type": "code",
   "execution_count": null,
   "id": "e9dc2f93-0325-4f05-8ee5-10383297e087",
   "metadata": {},
   "outputs": [],
   "source": [
    "car_sales"
   ]
  },
  {
   "cell_type": "code",
   "execution_count": null,
   "id": "d29591e3-ca78-43c5-b365-81eb64ea550a",
   "metadata": {},
   "outputs": [],
   "source": [
    "# How to apply a function to a `DataFrame`\n",
    "# The conversion from mi to km is \"about\" 1.6.\n",
    "car_sales['Odometer (mi)'] = car_sales['Odometer (KM)'].apply(lambda x: x / 1.6)\n",
    "car_sales"
   ]
  },
  {
   "cell_type": "code",
   "execution_count": null,
   "id": "e4ef4862-3faa-4397-81a4-e2e9950e55d2",
   "metadata": {},
   "outputs": [],
   "source": []
  }
 ],
 "metadata": {
  "kernelspec": {
   "display_name": "Python 3 (ipykernel)",
   "language": "python",
   "name": "python3"
  },
  "language_info": {
   "codemirror_mode": {
    "name": "ipython",
    "version": 3
   },
   "file_extension": ".py",
   "mimetype": "text/x-python",
   "name": "python",
   "nbconvert_exporter": "python",
   "pygments_lexer": "ipython3",
   "version": "3.12.7"
  }
 },
 "nbformat": 4,
 "nbformat_minor": 5
}
