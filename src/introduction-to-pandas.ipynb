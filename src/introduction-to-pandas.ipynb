{
 "cells": [
  {
   "cell_type": "code",
   "execution_count": null,
   "id": "4e740818-1be7-4bbe-a7eb-35d7ba683e19",
   "metadata": {},
   "outputs": [],
   "source": [
    "# Start by importing pandas\n",
    "import pandas as pd"
   ]
  },
  {
   "cell_type": "code",
   "execution_count": null,
   "id": "27af0739-4a58-47dc-b21a-707fc6d1f690",
   "metadata": {},
   "outputs": [],
   "source": [
    "# Two main data types\n",
    "series = pd.Series([\"BMW\", \"Toyota\", \"Honda\"])"
   ]
  },
  {
   "cell_type": "code",
   "execution_count": null,
   "id": "b9f63eda-b06d-469f-b50a-8e41c100abaf",
   "metadata": {},
   "outputs": [],
   "source": [
    "series"
   ]
  },
  {
   "cell_type": "code",
   "execution_count": null,
   "id": "37a04581-679d-4015-ac72-5e248978af58",
   "metadata": {},
   "outputs": [],
   "source": [
    "# Series are **one-dimensional**"
   ]
  },
  {
   "cell_type": "code",
   "execution_count": null,
   "id": "cd370e4f-1904-4ef3-a2fa-a14dfc7b9085",
   "metadata": {},
   "outputs": [],
   "source": [
    "colors = pd.Series([\"Red\", \"Blue\", \"White\"])\n",
    "colors"
   ]
  },
  {
   "cell_type": "code",
   "execution_count": null,
   "id": "3f7ab2b5-74c2-46fd-93f7-2ca3f155bb4d",
   "metadata": {},
   "outputs": [],
   "source": [
    "# DataFrame is **two-dimensional**\n",
    "# Far more common than `Series`\n",
    "car_data = pd.DataFrame({\"Car make\": series, \"Color\": colors})"
   ]
  },
  {
   "cell_type": "code",
   "execution_count": null,
   "id": "76e59c7b-cfa3-4ec1-8f52-801bcd6a6fc6",
   "metadata": {},
   "outputs": [],
   "source": [
    "# Far more typical to **import** data\n",
    "car_sales = pd.read_csv('car-sales.csv')"
   ]
  },
  {
   "cell_type": "code",
   "execution_count": null,
   "id": "cde027ea-08ab-4b31-ab6b-05c3232f2866",
   "metadata": {},
   "outputs": [],
   "source": [
    "# Remember, this file contains a **small** amount of data\n",
    "car_sales"
   ]
  },
  {
   "cell_type": "code",
   "execution_count": null,
   "id": "31aad15b-63d0-4f27-8229-0e105ae69c45",
   "metadata": {},
   "outputs": [],
   "source": [
    "# Exporting a DataFrame\n",
    "# (Even though it is **unchanged**.)\n",
    "# Can also export to Excel (`to_excel()`) (or other fomats).\n",
    "# Adding the parameter, `index=False`, prevents pandas from exporting the index column.\n",
    "car_sales.to_csv('exported-car-sales.csv', index=False)"
   ]
  },
  {
   "cell_type": "code",
   "execution_count": null,
   "id": "0db4f723-e988-4602-997c-42f838e27ccc",
   "metadata": {},
   "outputs": [],
   "source": [
    "exported_car_sales = pd.read_csv('exported-car-sales.csv')\n",
    "exported_car_sales"
   ]
  },
  {
   "cell_type": "markdown",
   "id": "d346d388-75f0-42f6-b6d3-309f42405025",
   "metadata": {},
   "source": [
    "## Describe data"
   ]
  },
  {
   "cell_type": "code",
   "execution_count": null,
   "id": "16a11483-b782-4240-8aab-a11954acf450",
   "metadata": {},
   "outputs": [],
   "source": [
    "# Attribute (no function call)\n",
    "# Queries the data types for our data frame\n",
    "car_sales.dtypes\n",
    "\n",
    "# Function\n",
    "# car_sales.to_csv() (Notice function operator `())"
   ]
  },
  {
   "cell_type": "code",
   "execution_count": null,
   "id": "f5f96237-1348-4f37-8443-69dfe368da01",
   "metadata": {},
   "outputs": [],
   "source": [
    "car_sales.columns"
   ]
  },
  {
   "cell_type": "code",
   "execution_count": null,
   "id": "9f0d6253-6af9-4c90-aaab-88a155fd4119",
   "metadata": {},
   "outputs": [],
   "source": [
    "car_columns = car_sales.columns\n",
    "car_columns"
   ]
  },
  {
   "cell_type": "code",
   "execution_count": null,
   "id": "f1e0e3f2-2396-4ce7-aa11-725948e2c4bd",
   "metadata": {},
   "outputs": [],
   "source": [
    "# A mistake\n",
    "try:\n",
    "    car_columns.index\n",
    "except Exception as e:\n",
    "    print(f'An error occurred: {e}')"
   ]
  },
  {
   "cell_type": "code",
   "execution_count": null,
   "id": "6c0daaf6-80b2-4dd5-926e-41f76bec0dba",
   "metadata": {},
   "outputs": [],
   "source": [
    "car_sales.index"
   ]
  },
  {
   "cell_type": "code",
   "execution_count": null,
   "id": "aae339f7-60d2-4736-adc2-9d819a12bb97",
   "metadata": {},
   "outputs": [],
   "source": [
    "car_sales"
   ]
  },
  {
   "cell_type": "code",
   "execution_count": null,
   "id": "ef2b5258-f975-4cd9-8f5a-a99312615dac",
   "metadata": {},
   "outputs": [],
   "source": [
    "# We've looked at attributes. Now let's call some functions.\n",
    "car_sales.describe()"
   ]
  },
  {
   "cell_type": "code",
   "execution_count": null,
   "id": "5825792b-1d23-4e63-8b02-d47c8417d038",
   "metadata": {},
   "outputs": [],
   "source": [
    "car_sales.info()"
   ]
  },
  {
   "cell_type": "code",
   "execution_count": null,
   "id": "bdd95495-e129-4ce8-8877-e897267b02b0",
   "metadata": {},
   "outputs": [],
   "source": [
    "# The behavior of `mean()` has apparently changed since the video was released. \n",
    "# In the video, `car_sales.mean()` only returned the arithmetic mean of **numeric**\n",
    "# columns. Currently, this function **fails** because of the non-numeric columns.\n",
    "try:\n",
    "    car_sales.mean()\n",
    "except Exception as e:\n",
    "    print(f'`mean()` no longer handles non-numeric columns\\n  {e}')"
   ]
  },
  {
   "cell_type": "code",
   "execution_count": null,
   "id": "bc26f35f-cf79-422c-b9b7-91874bfe7873",
   "metadata": {},
   "outputs": [],
   "source": [
    "# To \"restore\" the behavior in the video, execute\n",
    "car_sales.mean(numeric_only=True)"
   ]
  },
  {
   "cell_type": "code",
   "execution_count": null,
   "id": "e619cd0c-66a1-4bb5-9a5e-2899d430a4b2",
   "metadata": {},
   "outputs": [],
   "source": [
    "# Invoking `mean()` on a `Series`\n",
    "car_prices = pd.Series([3000, 1500, 111250])\n",
    "car_prices.mean()"
   ]
  },
  {
   "cell_type": "code",
   "execution_count": null,
   "id": "6abec50d-db50-4469-9545-25197b5314a0",
   "metadata": {},
   "outputs": [],
   "source": [
    "car_sales.sum()"
   ]
  },
  {
   "cell_type": "code",
   "execution_count": null,
   "id": "acb033e1-71b5-4a54-b573-f373505f07d0",
   "metadata": {},
   "outputs": [],
   "source": [
    "car_sales['Odometer (KM)'].sum()"
   ]
  },
  {
   "cell_type": "code",
   "execution_count": null,
   "id": "9ca0a7f0-f898-4f3d-b5e5-79f86bd44d57",
   "metadata": {},
   "outputs": [],
   "source": [
    "car_sales['Doors'].sum()"
   ]
  },
  {
   "cell_type": "code",
   "execution_count": null,
   "id": "151761f5-66e8-4b86-91bd-9236f7694f46",
   "metadata": {},
   "outputs": [],
   "source": [
    "car_sales['Doors'].mean()"
   ]
  },
  {
   "cell_type": "code",
   "execution_count": null,
   "id": "35f1d89d-f3b4-4103-b90d-f9871294e47f",
   "metadata": {},
   "outputs": [],
   "source": [
    "car_sales['Doors'].max()"
   ]
  },
  {
   "cell_type": "code",
   "execution_count": null,
   "id": "57ec1844-64dd-42df-8780-86e3fc591f2e",
   "metadata": {},
   "outputs": [],
   "source": [
    "len(car_sales)"
   ]
  },
  {
   "cell_type": "code",
   "execution_count": null,
   "id": "ba9e55f3-9872-4de8-99f0-cc9ae6632983",
   "metadata": {},
   "outputs": [],
   "source": []
  }
 ],
 "metadata": {
  "kernelspec": {
   "display_name": "Python 3 (ipykernel)",
   "language": "python",
   "name": "python3"
  },
  "language_info": {
   "codemirror_mode": {
    "name": "ipython",
    "version": 3
   },
   "file_extension": ".py",
   "mimetype": "text/x-python",
   "name": "python",
   "nbconvert_exporter": "python",
   "pygments_lexer": "ipython3",
   "version": "3.12.7"
  }
 },
 "nbformat": 4,
 "nbformat_minor": 5
}
