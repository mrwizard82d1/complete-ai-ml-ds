{
 "cells": [
  {
   "cell_type": "markdown",
   "id": "f2b8e1d0-7d67-4bbd-8864-561107ef16e8",
   "metadata": {},
   "source": [
    "# Hello Jupyter Notebook World!"
   ]
  },
  {
   "cell_type": "code",
   "execution_count": null,
   "id": "3bbe0e5b-cf18-4ec8-91b0-5880bdbfa7d1",
   "metadata": {},
   "outputs": [],
   "source": [
    "print(\"Hello, world. I'm learning about Jupyter notebooks!\")"
   ]
  },
  {
   "cell_type": "code",
   "execution_count": null,
   "id": "5bb2072b-e6c0-442e-b2c9-65481acfd11e",
   "metadata": {},
   "outputs": [],
   "source": [
    "a = 5"
   ]
  },
  {
   "cell_type": "code",
   "execution_count": null,
   "id": "1198c8b5-6aad-4391-b02e-9afdc3b5a3e2",
   "metadata": {},
   "outputs": [],
   "source": [
    "a = 6"
   ]
  },
  {
   "cell_type": "code",
   "execution_count": null,
   "id": "89675088-5e4f-4b96-8d77-abb785e13013",
   "metadata": {},
   "outputs": [],
   "source": [
    "a"
   ]
  },
  {
   "cell_type": "code",
   "execution_count": null,
   "id": "e9071fdc-7b80-4788-a64f-ea3f843cd329",
   "metadata": {},
   "outputs": [],
   "source": [
    "1 + 1"
   ]
  },
  {
   "cell_type": "markdown",
   "id": "001f0b03-6fe5-4346-807c-d7f6c99c0f17",
   "metadata": {},
   "source": [
    "## Heart disease project\n",
    "\n",
    "This project is about classifying whether or not a patient has heart disease."
   ]
  },
  {
   "cell_type": "code",
   "execution_count": null,
   "id": "e7b08738-a07d-4dde-b46a-e83fda7a407b",
   "metadata": {},
   "outputs": [],
   "source": [
    "import pandas as pd"
   ]
  },
  {
   "cell_type": "code",
   "execution_count": null,
   "id": "27a34df8-57e6-4e34-ba28-62cdf4f43dc3",
   "metadata": {},
   "outputs": [],
   "source": [
    "df = pd.read_csv('heart-disease.csv')"
   ]
  },
  {
   "cell_type": "markdown",
   "id": "2625d8f3-618a-40c0-b40b-65362fa3a29d",
   "metadata": {},
   "source": [
    "The following table shows heart disease for patients"
   ]
  },
  {
   "cell_type": "code",
   "execution_count": null,
   "id": "23e5eaed-349f-41cf-a2b0-1b901f85dabf",
   "metadata": {},
   "outputs": [],
   "source": [
    "df.head()"
   ]
  },
  {
   "cell_type": "code",
   "execution_count": null,
   "id": "04935056-0139-42fb-8846-a462cfa12fd3",
   "metadata": {},
   "outputs": [],
   "source": [
    "## Suppyling a numeric argument to `head()` displays that number of (data) rows\n",
    "df.head(10)"
   ]
  },
  {
   "cell_type": "code",
   "execution_count": null,
   "id": "27d69b1e-72f8-4cd2-8329-5591f0c96ab9",
   "metadata": {},
   "outputs": [],
   "source": [
    "# What if we wanted to identify the number of patients **with** heart disease?\n",
    "# This action uses the `target` column. This column is a \"boolean\" column: a \n",
    "# 1 (one) indicates heart disease; a 0 (zero) indicates no heart disease.\n",
    "df.target.value_counts()"
   ]
  },
  {
   "cell_type": "code",
   "execution_count": null,
   "id": "551b8d67-0791-44b8-bd6e-4b7c57731d4f",
   "metadata": {},
   "outputs": [],
   "source": [
    "df.target.value_counts().plot(kind='bar')"
   ]
  },
  {
   "cell_type": "code",
   "execution_count": null,
   "id": "73375b57-f604-46a5-8a57-f21b0cc104b6",
   "metadata": {},
   "outputs": [],
   "source": [
    "# NOTE: in the video, the previous command displayed **no** graph.\n",
    "# To display the graph (in the video), one needs to impolt `matplotlib`.\n",
    "import matplotlib.pyplot as plt"
   ]
  },
  {
   "cell_type": "markdown",
   "id": "a0e8c984-76c9-41b6-b593-7a64197a4ce6",
   "metadata": {},
   "source": [
    "![](https://dev.mrdbourke.com/zero-to-mastery-ml/images/ml101-6-step-ml-framework.png)"
   ]
  },
  {
   "cell_type": "markdown",
   "id": "84319a4c-3f82-4f95-9e1e-8afb8c50e90f",
   "metadata": {},
   "source": [
    "## 1. Problem definition\n",
    "Predict heart disease."
   ]
  },
  {
   "cell_type": "code",
   "execution_count": null,
   "id": "64a5ba37-c5cc-4800-9477-fa5b387305fc",
   "metadata": {},
   "outputs": [],
   "source": []
  },
  {
   "cell_type": "code",
   "execution_count": null,
   "id": "4c43acf4-ff87-4ad7-a5d7-c211f6c311a4",
   "metadata": {},
   "outputs": [],
   "source": []
  },
  {
   "cell_type": "code",
   "execution_count": null,
   "id": "fd60c210-e85b-4e5c-88c9-1968adc690ec",
   "metadata": {},
   "outputs": [],
   "source": []
  },
  {
   "cell_type": "markdown",
   "id": "eaf227b5-aebd-4b4e-b7f2-17089c0618eb",
   "metadata": {},
   "source": [
    "## 2. Data\n",
    "\n",
    "This is the data we're using."
   ]
  },
  {
   "cell_type": "code",
   "execution_count": null,
   "id": "dded73ed-b14a-4218-9e9d-a175903a8ae1",
   "metadata": {},
   "outputs": [],
   "source": []
  },
  {
   "cell_type": "code",
   "execution_count": null,
   "id": "f08f805f-b08f-4737-a927-9cc590bb8e82",
   "metadata": {},
   "outputs": [],
   "source": []
  },
  {
   "cell_type": "code",
   "execution_count": null,
   "id": "45f7eb4f-39e1-4056-b409-004805afd9b2",
   "metadata": {},
   "outputs": [],
   "source": []
  },
  {
   "cell_type": "code",
   "execution_count": null,
   "id": "4d846386-d703-4b15-ade0-6fb93c04310f",
   "metadata": {},
   "outputs": [],
   "source": [
    "ls"
   ]
  },
  {
   "cell_type": "code",
   "execution_count": null,
   "id": "44b2eb0a-c301-4d16-b546-e7f975f09cc3",
   "metadata": {},
   "outputs": [],
   "source": []
  }
 ],
 "metadata": {
  "kernelspec": {
   "display_name": "Python 3 (ipykernel)",
   "language": "python",
   "name": "python3"
  },
  "language_info": {
   "codemirror_mode": {
    "name": "ipython",
    "version": 3
   },
   "file_extension": ".py",
   "mimetype": "text/x-python",
   "name": "python",
   "nbconvert_exporter": "python",
   "pygments_lexer": "ipython3",
   "version": "3.12.7"
  }
 },
 "nbformat": 4,
 "nbformat_minor": 5
}
