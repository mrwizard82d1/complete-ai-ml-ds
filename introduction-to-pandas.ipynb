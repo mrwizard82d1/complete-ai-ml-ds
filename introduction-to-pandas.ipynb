{
 "cells": [
  {
   "metadata": {},
   "cell_type": "markdown",
   "source": "# Introduction to `pandas`",
   "id": "39cada60734c709e"
  },
  {
   "metadata": {},
   "cell_type": "markdown",
   "source": "We import the `pandas` package as `pd` (A typical \"abbreviation.\" See the book _Pandas_ by Wes McKinney.)",
   "id": "b047b8b77a03338b"
  },
  {
   "metadata": {},
   "cell_type": "code",
   "source": "import pandas as pd",
   "id": "9c497c93-e8c7-4f92-a913-512bc5645bf0",
   "outputs": [],
   "execution_count": null
  },
  {
   "metadata": {},
   "cell_type": "markdown",
   "source": "The `pandas` packages has two main datatypes. One data type is `Series`.",
   "id": "c692cfc51b765f5a"
  },
  {
   "cell_type": "code",
   "id": "7f3fe074-eb8d-4865-ae6e-328b494f7ed9",
   "metadata": {},
   "source": [
    "series = pd.Series(['BMW', 'Toyota', 'Honda'])\n",
    "series"
   ],
   "outputs": [],
   "execution_count": null
  },
  {
   "metadata": {},
   "cell_type": "markdown",
   "source": "Series are **one-dimensional**",
   "id": "8b360323ec197d81"
  },
  {
   "metadata": {},
   "cell_type": "markdown",
   "source": "Create a second `Series` for later use.",
   "id": "38da889812e96855"
  },
  {
   "metadata": {},
   "cell_type": "code",
   "source": [
    "colors = pd.Series(['Red', 'Blue', 'White'])\n",
    "colors"
   ],
   "id": "237544d2414702e3",
   "outputs": [],
   "execution_count": null
  },
  {
   "metadata": {},
   "cell_type": "markdown",
   "source": "Data frames are **two-dimensional**",
   "id": "6c86ed6954b8e31"
  },
  {
   "metadata": {},
   "cell_type": "code",
   "source": [
    "car_data = pd.DataFrame({'Car make': series, 'Color': colors})\n",
    "car_data"
   ],
   "id": "72919faf-a0d6-4f0b-ba38-14c880d5d066",
   "outputs": [],
   "execution_count": null
  },
  {
   "metadata": {},
   "cell_type": "markdown",
   "source": "One can import a data from `.csv` file",
   "id": "20ae4a6351bfc2df"
  },
  {
   "metadata": {},
   "cell_type": "code",
   "source": [
    "car_sales = pd.read_csv('./car-sales.csv')\n",
    "car_sales"
   ],
   "id": "881ffb22-b8a0-4cee-910c-eb409980995f",
   "outputs": [],
   "execution_count": null
  },
  {
   "metadata": {},
   "cell_type": "markdown",
   "source": [
    "## \"Anatomy\" of a dataframe\n",
    "\n",
    "- Left-most column, when printed, is the index. (0-9) above\n",
    "- Rows (axis=0)\n",
    "- Columns (axis=1)\n",
    "- See [Anatomy of a Dataframe](./Anatomy of a Dataframe.png)"
   ],
   "id": "92e051bfaef522f9"
  },
  {
   "metadata": {},
   "cell_type": "markdown",
   "source": [
    "Even though we've not changed the car sales data, we export it to\n",
    "demonstrate the `pandas` export functionality."
   ],
   "id": "824232ae9cf4bb8c"
  },
  {
   "metadata": {},
   "cell_type": "code",
   "source": "car_sales.to_csv('exported_car_sales.csv')",
   "id": "33544cd1dfe2c7a5",
   "outputs": [],
   "execution_count": null
  },
  {
   "metadata": {},
   "cell_type": "markdown",
   "source": [
    " As an alternative, we could export the file in Excel format using\n",
    "car_sales.to_excel('exported_car_sales.xlsx'). However, this functionality\n",
    "requires the module `openpyxl`."
   ],
   "id": "92b94ac0b1239024"
  },
  {
   "metadata": {},
   "cell_type": "markdown",
   "source": "Reading a previously exported `.csv` exhibits surprising behavior.",
   "id": "b14d904515dfdd87"
  },
  {
   "metadata": {},
   "cell_type": "code",
   "source": [
    "exported_car_sales = pd.read_csv('exported_car_sales.csv')\n",
    "exported_car_sales"
   ],
   "id": "24df5354fe692343",
   "outputs": [],
   "execution_count": null
  },
  {
   "metadata": {},
   "cell_type": "markdown",
   "source": [
    "That is, reading a `pandas` data frame from a .`csv` file created by\n",
    "exporting a `DataFrame` previously as a `.csv` file \"adds\" a \n",
    "\"additional\" column name \"Unnamed: 0\". \n",
    "\n",
    "This behaviour is simply because of the way we originally \n",
    "**exported** the `DataFrame`.\n",
    "\n",
    "The `DataFrame.to_csv()` method accepts a parameter, `index`.\n",
    "`index` is a boolean parameter: if its value is truthy, the\n",
    "default, `pandas` will include the `Index` in the export.\n",
    "However, if `index` is falsy, the export will **not**\n",
    "contain the data frame `Index`."
   ],
   "id": "e6ada9886cff17f9"
  },
  {
   "metadata": {},
   "cell_type": "code",
   "source": [
    "# Including the optional parameter, `index`, with a falsy value\n",
    "# instructs `to_csv()` to **not** export the `Index` of the \n",
    "# data frame, (I suspect the same parameter could be used \n",
    "# for a `pandas` `Series`, but I could be wrong. :) )\n",
    "\n",
    "# Consequently, reading the exported data **will not** have\n",
    "# the \"mystery\" column (named something like \"Unnamed: 0\".\n",
    "car_sales.to_csv('exported_car_sales.csv', index=False)\n",
    "exported_car_sales = pd.read_csv('exported_car_sales.csv')\n",
    "exported_car_sales"
   ],
   "id": "779409380c8fa3a4",
   "outputs": [],
   "execution_count": null
  },
  {
   "metadata": {},
   "cell_type": "code",
   "source": "",
   "id": "b853bb61fad1e022",
   "outputs": [],
   "execution_count": null
  }
 ],
 "metadata": {
  "kernelspec": {
   "display_name": "Python 3 (ipykernel)",
   "language": "python",
   "name": "python3"
  },
  "language_info": {
   "codemirror_mode": {
    "name": "ipython",
    "version": 3
   },
   "file_extension": ".py",
   "mimetype": "text/x-python",
   "name": "python",
   "nbconvert_exporter": "python",
   "pygments_lexer": "ipython3",
   "version": "3.12.3"
  }
 },
 "nbformat": 4,
 "nbformat_minor": 5
}
