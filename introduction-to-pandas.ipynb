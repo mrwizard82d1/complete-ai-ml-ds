{
 "cells": [
  {
   "cell_type": "markdown",
   "id": "39cada60734c709e",
   "metadata": {},
   "source": [
    "# Introduction to `pandas`"
   ]
  },
  {
   "cell_type": "markdown",
   "id": "b047b8b77a03338b",
   "metadata": {},
   "source": [
    "We import the `pandas` package as `pd` (A typical \"abbreviation.\" \n",
    "See the book _Pandas for Data Analysis_ by Wes McKinney.)"
   ]
  },
  {
   "cell_type": "code",
   "id": "9c497c93-e8c7-4f92-a913-512bc5645bf0",
   "metadata": {
    "ExecuteTime": {
     "end_time": "2024-05-25T22:55:14.608211Z",
     "start_time": "2024-05-25T22:55:08.747288Z"
    }
   },
   "source": [
    "import pandas as pd"
   ],
   "outputs": [],
   "execution_count": 1
  },
  {
   "cell_type": "markdown",
   "id": "c692cfc51b765f5a",
   "metadata": {},
   "source": [
    "The `pandas` packages has two main datatypes. One data type is `Series`."
   ]
  },
  {
   "cell_type": "code",
   "id": "7f3fe074-eb8d-4865-ae6e-328b494f7ed9",
   "metadata": {
    "ExecuteTime": {
     "end_time": "2024-05-25T22:55:38.010839Z",
     "start_time": "2024-05-25T22:55:38.004550Z"
    }
   },
   "source": [
    "series = pd.Series(['BMW', 'Toyota', 'Honda'])\n",
    "series"
   ],
   "outputs": [
    {
     "data": {
      "text/plain": [
       "0       BMW\n",
       "1    Toyota\n",
       "2     Honda\n",
       "dtype: object"
      ]
     },
     "execution_count": 2,
     "metadata": {},
     "output_type": "execute_result"
    }
   ],
   "execution_count": 2
  },
  {
   "cell_type": "markdown",
   "id": "8b360323ec197d81",
   "metadata": {},
   "source": [
    "Series are **one-dimensional**"
   ]
  },
  {
   "cell_type": "markdown",
   "id": "38da889812e96855",
   "metadata": {},
   "source": [
    "Create a second `Series` for later use."
   ]
  },
  {
   "cell_type": "code",
   "id": "237544d2414702e3",
   "metadata": {
    "ExecuteTime": {
     "end_time": "2024-05-25T22:56:33.569291Z",
     "start_time": "2024-05-25T22:56:33.564487Z"
    }
   },
   "source": [
    "colors = pd.Series(['Red', 'Blue', 'White'])\n",
    "colors"
   ],
   "outputs": [
    {
     "data": {
      "text/plain": [
       "0      Red\n",
       "1     Blue\n",
       "2    White\n",
       "dtype: object"
      ]
     },
     "execution_count": 3,
     "metadata": {},
     "output_type": "execute_result"
    }
   ],
   "execution_count": 3
  },
  {
   "cell_type": "markdown",
   "id": "6c86ed6954b8e31",
   "metadata": {},
   "source": [
    "Data frames are **two-dimensional**\n",
    "\n",
    "Data frames are much more common than series during analysis."
   ]
  },
  {
   "cell_type": "code",
   "id": "72919faf-a0d6-4f0b-ba38-14c880d5d066",
   "metadata": {
    "ExecuteTime": {
     "end_time": "2024-05-25T22:57:55.216835Z",
     "start_time": "2024-05-25T22:57:55.207657Z"
    }
   },
   "source": [
    "car_data = pd.DataFrame({'Car make': series, 'Color': colors})\n",
    "car_data"
   ],
   "outputs": [
    {
     "data": {
      "text/plain": [
       "  Car make  Color\n",
       "0      BMW    Red\n",
       "1   Toyota   Blue\n",
       "2    Honda  White"
      ],
      "text/html": [
       "<div>\n",
       "<style scoped>\n",
       "    .dataframe tbody tr th:only-of-type {\n",
       "        vertical-align: middle;\n",
       "    }\n",
       "\n",
       "    .dataframe tbody tr th {\n",
       "        vertical-align: top;\n",
       "    }\n",
       "\n",
       "    .dataframe thead th {\n",
       "        text-align: right;\n",
       "    }\n",
       "</style>\n",
       "<table border=\"1\" class=\"dataframe\">\n",
       "  <thead>\n",
       "    <tr style=\"text-align: right;\">\n",
       "      <th></th>\n",
       "      <th>Car make</th>\n",
       "      <th>Color</th>\n",
       "    </tr>\n",
       "  </thead>\n",
       "  <tbody>\n",
       "    <tr>\n",
       "      <th>0</th>\n",
       "      <td>BMW</td>\n",
       "      <td>Red</td>\n",
       "    </tr>\n",
       "    <tr>\n",
       "      <th>1</th>\n",
       "      <td>Toyota</td>\n",
       "      <td>Blue</td>\n",
       "    </tr>\n",
       "    <tr>\n",
       "      <th>2</th>\n",
       "      <td>Honda</td>\n",
       "      <td>White</td>\n",
       "    </tr>\n",
       "  </tbody>\n",
       "</table>\n",
       "</div>"
      ]
     },
     "execution_count": 4,
     "metadata": {},
     "output_type": "execute_result"
    }
   ],
   "execution_count": 4
  },
  {
   "cell_type": "markdown",
   "id": "20ae4a6351bfc2df",
   "metadata": {},
   "source": [
    "One can import a data from `.csv` file"
   ]
  },
  {
   "cell_type": "code",
   "id": "881ffb22-b8a0-4cee-910c-eb409980995f",
   "metadata": {
    "ExecuteTime": {
     "end_time": "2024-05-25T22:59:01.472947Z",
     "start_time": "2024-05-25T22:59:01.460699Z"
    }
   },
   "source": [
    "car_sales = pd.read_csv('./car-sales.csv')\n",
    "car_sales"
   ],
   "outputs": [
    {
     "data": {
      "text/plain": [
       "     Make Colour  Odometer (KM)  Doors       Price\n",
       "0  Toyota  White         150043      4   $4,000.00\n",
       "1   Honda    Red          87899      4   $5,000.00\n",
       "2  Toyota   Blue          32549      3   $7,000.00\n",
       "3     BMW  Black          11179      5  $22,000.00\n",
       "4  Nissan  White         213095      4   $3,500.00\n",
       "5  Toyota  Green          99213      4   $4,500.00\n",
       "6   Honda   Blue          45698      4   $7,500.00\n",
       "7   Honda   Blue          54738      4   $7,000.00\n",
       "8  Toyota  White          60000      4   $6,250.00\n",
       "9  Nissan  White          31600      4   $9,700.00"
      ],
      "text/html": [
       "<div>\n",
       "<style scoped>\n",
       "    .dataframe tbody tr th:only-of-type {\n",
       "        vertical-align: middle;\n",
       "    }\n",
       "\n",
       "    .dataframe tbody tr th {\n",
       "        vertical-align: top;\n",
       "    }\n",
       "\n",
       "    .dataframe thead th {\n",
       "        text-align: right;\n",
       "    }\n",
       "</style>\n",
       "<table border=\"1\" class=\"dataframe\">\n",
       "  <thead>\n",
       "    <tr style=\"text-align: right;\">\n",
       "      <th></th>\n",
       "      <th>Make</th>\n",
       "      <th>Colour</th>\n",
       "      <th>Odometer (KM)</th>\n",
       "      <th>Doors</th>\n",
       "      <th>Price</th>\n",
       "    </tr>\n",
       "  </thead>\n",
       "  <tbody>\n",
       "    <tr>\n",
       "      <th>0</th>\n",
       "      <td>Toyota</td>\n",
       "      <td>White</td>\n",
       "      <td>150043</td>\n",
       "      <td>4</td>\n",
       "      <td>$4,000.00</td>\n",
       "    </tr>\n",
       "    <tr>\n",
       "      <th>1</th>\n",
       "      <td>Honda</td>\n",
       "      <td>Red</td>\n",
       "      <td>87899</td>\n",
       "      <td>4</td>\n",
       "      <td>$5,000.00</td>\n",
       "    </tr>\n",
       "    <tr>\n",
       "      <th>2</th>\n",
       "      <td>Toyota</td>\n",
       "      <td>Blue</td>\n",
       "      <td>32549</td>\n",
       "      <td>3</td>\n",
       "      <td>$7,000.00</td>\n",
       "    </tr>\n",
       "    <tr>\n",
       "      <th>3</th>\n",
       "      <td>BMW</td>\n",
       "      <td>Black</td>\n",
       "      <td>11179</td>\n",
       "      <td>5</td>\n",
       "      <td>$22,000.00</td>\n",
       "    </tr>\n",
       "    <tr>\n",
       "      <th>4</th>\n",
       "      <td>Nissan</td>\n",
       "      <td>White</td>\n",
       "      <td>213095</td>\n",
       "      <td>4</td>\n",
       "      <td>$3,500.00</td>\n",
       "    </tr>\n",
       "    <tr>\n",
       "      <th>5</th>\n",
       "      <td>Toyota</td>\n",
       "      <td>Green</td>\n",
       "      <td>99213</td>\n",
       "      <td>4</td>\n",
       "      <td>$4,500.00</td>\n",
       "    </tr>\n",
       "    <tr>\n",
       "      <th>6</th>\n",
       "      <td>Honda</td>\n",
       "      <td>Blue</td>\n",
       "      <td>45698</td>\n",
       "      <td>4</td>\n",
       "      <td>$7,500.00</td>\n",
       "    </tr>\n",
       "    <tr>\n",
       "      <th>7</th>\n",
       "      <td>Honda</td>\n",
       "      <td>Blue</td>\n",
       "      <td>54738</td>\n",
       "      <td>4</td>\n",
       "      <td>$7,000.00</td>\n",
       "    </tr>\n",
       "    <tr>\n",
       "      <th>8</th>\n",
       "      <td>Toyota</td>\n",
       "      <td>White</td>\n",
       "      <td>60000</td>\n",
       "      <td>4</td>\n",
       "      <td>$6,250.00</td>\n",
       "    </tr>\n",
       "    <tr>\n",
       "      <th>9</th>\n",
       "      <td>Nissan</td>\n",
       "      <td>White</td>\n",
       "      <td>31600</td>\n",
       "      <td>4</td>\n",
       "      <td>$9,700.00</td>\n",
       "    </tr>\n",
       "  </tbody>\n",
       "</table>\n",
       "</div>"
      ]
     },
     "execution_count": 5,
     "metadata": {},
     "output_type": "execute_result"
    }
   ],
   "execution_count": 5
  },
  {
   "cell_type": "markdown",
   "id": "92e051bfaef522f9",
   "metadata": {},
   "source": [
    "## \"Anatomy\" of a dataframe\n",
    "\n",
    "- Left-most column, when printed, is the index. (0-9) above\n",
    "- Rows (axis=0)\n",
    "- Columns (axis=1)\n",
    "- See [Anatomy of a Dataframe](./Anatomy of a Dataframe.png)"
   ]
  },
  {
   "cell_type": "markdown",
   "id": "824232ae9cf4bb8c",
   "metadata": {},
   "source": [
    "Even though we've not changed the car sales data, we export it to\n",
    "demonstrate the `pandas` export functionality."
   ]
  },
  {
   "cell_type": "code",
   "id": "33544cd1dfe2c7a5",
   "metadata": {
    "ExecuteTime": {
     "end_time": "2024-05-25T23:10:18.987364Z",
     "start_time": "2024-05-25T23:10:18.978919Z"
    }
   },
   "source": [
    "car_sales.to_csv('exported_car_sales.csv')"
   ],
   "outputs": [],
   "execution_count": 6
  },
  {
   "cell_type": "markdown",
   "id": "92b94ac0b1239024",
   "metadata": {},
   "source": [
    "As an alternative, we could export the file in Excel format using\n",
    "car_sales.to_excel('exported_car_sales.xlsx'). However, this functionality\n",
    "requires the module `openpyxl`."
   ]
  },
  {
   "cell_type": "markdown",
   "id": "b14d904515dfdd87",
   "metadata": {},
   "source": [
    "Reading a previously exported `.csv` exhibits surprising behavior."
   ]
  },
  {
   "cell_type": "code",
   "id": "24df5354fe692343",
   "metadata": {},
   "source": [
    "exported_car_sales = pd.read_csv('exported_car_sales.csv')\n",
    "exported_car_sales"
   ],
   "outputs": [],
   "execution_count": null
  },
  {
   "cell_type": "markdown",
   "id": "e6ada9886cff17f9",
   "metadata": {},
   "source": [
    "That is, reading a `pandas` data frame from a .`csv` file created by\n",
    "exporting a `DataFrame` previously as a `.csv` file \"adds\" a \n",
    "\"additional\" column name \"Unnamed: 0\". \n",
    "\n",
    "This behaviour is simply because of the way we originally \n",
    "**exported** the `DataFrame`.\n",
    "\n",
    "The `DataFrame.to_csv()` method accepts a parameter, `index`.\n",
    "`index` is a boolean parameter: if its value is truthy, the\n",
    "default, `pandas` will include the `Index` in the export.\n",
    "However, if `index` is falsy, the export will **not**\n",
    "contain the data frame `Index`."
   ]
  },
  {
   "cell_type": "code",
   "id": "779409380c8fa3a4",
   "metadata": {},
   "source": [
    "# Including the optional parameter, `index`, with a falsy value\n",
    "# instructs `to_csv()` to **not** export the `Index` of the \n",
    "# data frame, (I suspect the same parameter could be used \n",
    "# for a `pandas` `Series`, but I could be wrong. :) )\n",
    "\n",
    "# Consequently, reading the exported data **will not** have\n",
    "# the \"mystery\" column (named something like \"Unnamed: 0\".\n",
    "car_sales.to_csv('exported_car_sales.csv', index=False)\n",
    "exported_car_sales = pd.read_csv('exported_car_sales.csv')\n",
    "exported_car_sales"
   ],
   "outputs": [],
   "execution_count": null
  },
  {
   "cell_type": "markdown",
   "id": "37be3520-5751-4c84-b4c1-dd4aaa4bdbee",
   "metadata": {},
   "source": [
    "## Selecting and Viewing Data with Pandas Part 1"
   ]
  },
  {
   "cell_type": "markdown",
   "id": "163fc9e1-8c23-47d1-9ab0-166a08312165",
   "metadata": {},
   "source": [
    "### Describe data"
   ]
  },
  {
   "cell_type": "markdown",
   "id": "26030e26-1a8d-4671-959c-0cde7c6f8fae",
   "metadata": {},
   "source": [
    "#### DataFrame Attributes"
   ]
  },
  {
   "cell_type": "code",
   "id": "6218f433-270f-4f3f-b2e9-4a98c748ec51",
   "metadata": {},
   "source": [
    "# An attribute (basically reads data)\n",
    "car_sales.dtypes\n",
    "\n",
    "# A function executes code.\n",
    "# car_sales.to_csv()"
   ],
   "outputs": [],
   "execution_count": null
  },
  {
   "cell_type": "code",
   "id": "586cdae0-6e7b-406d-b061-70a3a57f9d99",
   "metadata": {},
   "source": [
    "# Another attribute: the columns of the data frame\n",
    "car_sales.columns"
   ],
   "outputs": [],
   "execution_count": null
  },
  {
   "cell_type": "markdown",
   "id": "de0e5210-6eb7-49bf-9386-1a052149cd87",
   "metadata": {},
   "source": [
    "A `pandas` `Index` is basically a list of values of a specified type"
   ]
  },
  {
   "cell_type": "code",
   "id": "8c7b4c1f-e064-4215-86c1-19b2f6ffea71",
   "metadata": {},
   "source": [
    "car_columns = car_sales.columns\n",
    "car_columns"
   ],
   "outputs": [],
   "execution_count": null
  },
  {
   "cell_type": "code",
   "id": "e7d2f2a8-bfd3-41b4-888e-f1380bc09a71",
   "metadata": {},
   "source": [
    "car_columns[0], car_columns[2:-1]"
   ],
   "outputs": [],
   "execution_count": null
  },
  {
   "cell_type": "code",
   "id": "633d39af-14f5-4f7f-b18a-b1a19ff8bc0f",
   "metadata": {},
   "source": [
    "# What about an `index` property\n",
    "car_sales.index"
   ],
   "outputs": [],
   "execution_count": null
  },
  {
   "cell_type": "code",
   "id": "7d18b5be-729c-4ec1-b6bd-65483b1922b4",
   "metadata": {},
   "source": [
    "car_sales"
   ],
   "outputs": [],
   "execution_count": null
  },
  {
   "cell_type": "markdown",
   "id": "20527800-23ec-4126-85d7-bc080cdfb58a",
   "metadata": {},
   "source": [
    "#### DataFrame functions"
   ]
  },
  {
   "cell_type": "code",
   "id": "6c7a204a-ba9e-4be0-ace2-310758ec26b5",
   "metadata": {},
   "source": [
    "# Summary statistics about **numeric** fields\n",
    "car_sales.describe()"
   ],
   "outputs": [],
   "execution_count": null
  },
  {
   "cell_type": "markdown",
   "id": "c17fe84f-e196-4e9a-b0fc-f7cee03c5601",
   "metadata": {},
   "source": [
    "Note that the `price` column is of `dtype` `object` (not a number). \n",
    "Because the `price` column is a **non-numeric** column (neither \n",
    "`int` nor `float`, it is **not** included in the summary statistics\n",
    "calculated by `describe()`."
   ]
  },
  {
   "cell_type": "code",
   "id": "154d7e5e-25cb-429c-a8f5-a6fb83d1cb58",
   "metadata": {},
   "source": [
    "car_sales.info()"
   ],
   "outputs": [],
   "execution_count": null
  },
  {
   "cell_type": "markdown",
   "id": "957dc86e-2642-43e5-bc66-3d222569ebfe",
   "metadata": {},
   "source": [
    "The function `DataFrame.info()` provides a summary of the **data** of\n",
    "each column in the `DataFrame`."
   ]
  },
  {
   "cell_type": "code",
   "id": "189f5fc6-f640-42e9-a7e6-4a2b4b274ccb",
   "metadata": {},
   "source": [
    "try:\n",
    "    car_sales.mean() # Average of **numeric** columns\n",
    "except:\n",
    "    print('Hmmm. Apparently a change in behavior from the videos.')"
   ],
   "outputs": [],
   "execution_count": null
  },
  {
   "cell_type": "code",
   "id": "6fce4070-1d28-4278-812f-af7dc01e6e44",
   "metadata": {},
   "source": [
    "car_sales[['Odometer (KM)', 'Doors']].mean()"
   ],
   "outputs": [],
   "execution_count": null
  },
  {
   "cell_type": "markdown",
   "id": "bff9d8a1-d484-447d-8197-c61da0a9f2ed",
   "metadata": {},
   "source": [
    "The function `mean()` also works on appropriate instances\n",
    "of `DataFrame.Series`."
   ]
  },
  {
   "cell_type": "code",
   "id": "01d89152-ecc4-4212-a24a-2eb7410816cf",
   "metadata": {},
   "source": [
    "# Pretending our car prices are of dtype `int` and not of dtype `object`\n",
    "car_prices = pd.Series([3000, 1500, 111250])\n",
    "car_prices.mean()"
   ],
   "outputs": [],
   "execution_count": null
  },
  {
   "cell_type": "markdown",
   "id": "d74d115f-4ef4-4c9e-a11c-33e5574de201",
   "metadata": {},
   "source": [
    "We can try calling the `sum()` function on the entire `car_sales` \n",
    "`DataFrame`. We have the same \"luck\" as we did with `mean()`"
   ]
  },
  {
   "cell_type": "code",
   "id": "deaf63a1-e133-4a9c-914f-233a14bf6c7c",
   "metadata": {},
   "source": [
    "try:\n",
    "    car_sales.mean()\n",
    "except:\n",
    "    print('Same issues as `car_sales.sum()`')"
   ],
   "outputs": [],
   "execution_count": null
  },
  {
   "cell_type": "markdown",
   "id": "28e7a44a-f081-4e50-a5b2-8f748c47f1db",
   "metadata": {},
   "source": [
    "And we use the same \"solution\"."
   ]
  },
  {
   "cell_type": "code",
   "id": "4491563b-bacc-47f3-b170-b74c9f6bb81e",
   "metadata": {},
   "source": [
    "car_sales[['Odometer (KM)', 'Doors']].mean()"
   ],
   "outputs": [],
   "execution_count": null
  },
  {
   "cell_type": "markdown",
   "id": "407127af-c9a6-4b90-b40e-a8ae53dec3e2",
   "metadata": {},
   "source": [
    "The `pandas` package provides \"typical\" statistical functions\n",
    "for numeric columns."
   ]
  },
  {
   "cell_type": "code",
   "id": "50e7cba9-3398-473b-b365-e131a467eff2",
   "metadata": {},
   "source": [
    "# Extract the column of interest (simply so we need not type it\n",
    "# all the time.\n",
    "mileages = car_sales['Odometer (KM)']\n",
    "mileages.mean(), mileages.median(), mileages.mode()"
   ],
   "outputs": [],
   "execution_count": null
  },
  {
   "cell_type": "markdown",
   "id": "3bddb815-6d04-4875-b99c-01465cb00800",
   "metadata": {},
   "source": [
    "The `len` function returns the number of rows in our data frame."
   ]
  },
  {
   "cell_type": "code",
   "id": "b0696cee-edf1-439e-9fb8-e958c531a14c",
   "metadata": {},
   "source": [
    "len(car_sales)"
   ],
   "outputs": [],
   "execution_count": null
  },
  {
   "cell_type": "markdown",
   "id": "e9049399-d660-4a22-a2bd-12390b7eee6c",
   "metadata": {},
   "source": [
    "## Selecting and Viewing Data with Pandas (Part 2)"
   ]
  },
  {
   "cell_type": "markdown",
   "id": "5cb68ecf-31cf-49ac-97ee-67c82b95935c",
   "metadata": {},
   "source": [
    "We can use operators to select rows of a `DataFrame`."
   ]
  },
  {
   "cell_type": "code",
   "id": "ba523966-66ef-4c3c-9e85-c05e67f45a10",
   "metadata": {},
   "source": [
    "# Select all cars sold with more than 100,000 miles\n",
    "car_sales[car_sales['Odometer (KM)'] > 100000]"
   ],
   "outputs": [],
   "execution_count": null
  },
  {
   "cell_type": "code",
   "id": "c704edc3-f308-47b6-b25a-e9da39cb85d4",
   "metadata": {},
   "source": [
    "# Compute a \"cross-tab\" between two columns\n",
    "pd.crosstab(car_sales['Make'], car_sales['Doors'])"
   ],
   "outputs": [],
   "execution_count": null
  },
  {
   "cell_type": "markdown",
   "id": "80d2ab23-7fee-40f0-aaaf-96dc02d70b40",
   "metadata": {},
   "source": [
    "What if we want a \"cross tab\" between more than two columns.\n",
    "The `group_by()` function to the rescue."
   ]
  },
  {
   "cell_type": "code",
   "id": "bd2853c6-a894-4d03-8282-8446edcd61fe",
   "metadata": {},
   "source": [
    "# Again, we appear to have the \"mean of a non-numeric column\" issue.\n",
    "try:\n",
    "    car_sales.groupby(['Make']).mean()\n",
    "except:\n",
    "    print('mean() applied to non-numeric columns again.')"
   ],
   "outputs": [],
   "execution_count": null
  },
  {
   "cell_type": "code",
   "id": "46bc43d7-c92a-4647-bebb-29888a41f208",
   "metadata": {},
   "source": [
    "car_sales.groupby(['Make'])"
   ],
   "outputs": [],
   "execution_count": null
  },
  {
   "cell_type": "code",
   "id": "2862863b-50b5-40d3-a5ca-930682581de3",
   "metadata": {},
   "source": [
    "car_sales.groupby(['Make'])[['Odometer (KM)', 'Doors']].mean()"
   ],
   "outputs": [],
   "execution_count": null
  },
  {
   "cell_type": "code",
   "id": "6afb1081-f71b-4faa-ae95-24d6569e99a0",
   "metadata": {},
   "source": [
    "car_sales[(car_sales['Make'] == 'Toyota') & (car_sales['Colour'] == 'White')][['Odometer (KM)', 'Doors']].mean()"
   ],
   "outputs": [],
   "execution_count": null
  },
  {
   "cell_type": "markdown",
   "id": "e9128bdc-c97f-47ad-b030-35f90f87572b",
   "metadata": {},
   "source": [
    "### Simple plotting"
   ]
  },
  {
   "cell_type": "markdown",
   "id": "b7fcdee1-89e5-4b18-9597-479ea6c9ac35",
   "metadata": {},
   "source": [
    "If the following code **does not** display a plot, one may need to\n",
    "execute the following cell (which is commented out)."
   ]
  },
  {
   "cell_type": "code",
   "id": "c32ddad5-19a6-4491-84ec-d194b64057cd",
   "metadata": {},
   "source": [
    "car_sales['Odometer (KM)'].plot()"
   ],
   "outputs": [],
   "execution_count": null
  },
  {
   "cell_type": "code",
   "id": "dc4ba479-019e-4fc9-8a32-f6c5d10c2fcc",
   "metadata": {},
   "source": [],
   "outputs": [],
   "execution_count": null
  }
 ],
 "metadata": {
  "kernelspec": {
   "display_name": "Python 3 (ipykernel)",
   "language": "python",
   "name": "python3"
  },
  "language_info": {
   "codemirror_mode": {
    "name": "ipython",
    "version": 3
   },
   "file_extension": ".py",
   "mimetype": "text/x-python",
   "name": "python",
   "nbconvert_exporter": "python",
   "pygments_lexer": "ipython3",
   "version": "3.12.3"
  }
 },
 "nbformat": 4,
 "nbformat_minor": 5
}
