{
 "cells": [
  {
   "cell_type": "markdown",
   "id": "39cada60734c709e",
   "metadata": {},
   "source": [
    "# Introduction to `pandas`"
   ]
  },
  {
   "cell_type": "markdown",
   "id": "b047b8b77a03338b",
   "metadata": {},
   "source": [
    "We import the `pandas` package as `pd` (A typical \"abbreviation.\" See the book _Pandas_ by Wes McKinney.)"
   ]
  },
  {
   "cell_type": "code",
   "execution_count": null,
   "id": "9c497c93-e8c7-4f92-a913-512bc5645bf0",
   "metadata": {},
   "outputs": [],
   "source": [
    "import pandas as pd"
   ]
  },
  {
   "cell_type": "markdown",
   "id": "c692cfc51b765f5a",
   "metadata": {},
   "source": [
    "The `pandas` packages has two main datatypes. One data type is `Series`."
   ]
  },
  {
   "cell_type": "code",
   "execution_count": null,
   "id": "7f3fe074-eb8d-4865-ae6e-328b494f7ed9",
   "metadata": {},
   "outputs": [],
   "source": [
    "series = pd.Series(['BMW', 'Toyota', 'Honda'])\n",
    "series"
   ]
  },
  {
   "cell_type": "markdown",
   "id": "8b360323ec197d81",
   "metadata": {},
   "source": [
    "Series are **one-dimensional**"
   ]
  },
  {
   "cell_type": "markdown",
   "id": "38da889812e96855",
   "metadata": {},
   "source": [
    "Create a second `Series` for later use."
   ]
  },
  {
   "cell_type": "code",
   "execution_count": null,
   "id": "237544d2414702e3",
   "metadata": {},
   "outputs": [],
   "source": [
    "colors = pd.Series(['Red', 'Blue', 'White'])\n",
    "colors"
   ]
  },
  {
   "cell_type": "markdown",
   "id": "6c86ed6954b8e31",
   "metadata": {},
   "source": [
    "Data frames are **two-dimensional**"
   ]
  },
  {
   "cell_type": "code",
   "execution_count": null,
   "id": "72919faf-a0d6-4f0b-ba38-14c880d5d066",
   "metadata": {},
   "outputs": [],
   "source": [
    "car_data = pd.DataFrame({'Car make': series, 'Color': colors})\n",
    "car_data"
   ]
  },
  {
   "cell_type": "markdown",
   "id": "20ae4a6351bfc2df",
   "metadata": {},
   "source": [
    "One can import a data from `.csv` file"
   ]
  },
  {
   "cell_type": "code",
   "execution_count": null,
   "id": "881ffb22-b8a0-4cee-910c-eb409980995f",
   "metadata": {},
   "outputs": [],
   "source": [
    "car_sales = pd.read_csv('./car-sales.csv')\n",
    "car_sales"
   ]
  },
  {
   "cell_type": "markdown",
   "id": "92e051bfaef522f9",
   "metadata": {},
   "source": [
    "## \"Anatomy\" of a dataframe\n",
    "\n",
    "- Left-most column, when printed, is the index. (0-9) above\n",
    "- Rows (axis=0)\n",
    "- Columns (axis=1)\n",
    "- See [Anatomy of a Dataframe](./Anatomy of a Dataframe.png)"
   ]
  },
  {
   "cell_type": "markdown",
   "id": "824232ae9cf4bb8c",
   "metadata": {},
   "source": [
    "Even though we've not changed the car sales data, we export it to\n",
    "demonstrate the `pandas` export functionality."
   ]
  },
  {
   "cell_type": "code",
   "execution_count": null,
   "id": "33544cd1dfe2c7a5",
   "metadata": {},
   "outputs": [],
   "source": [
    "car_sales.to_csv('exported_car_sales.csv')"
   ]
  },
  {
   "cell_type": "markdown",
   "id": "92b94ac0b1239024",
   "metadata": {},
   "source": [
    " As an alternative, we could export the file in Excel format using\n",
    "car_sales.to_excel('exported_car_sales.xlsx'). However, this functionality\n",
    "requires the module `openpyxl`."
   ]
  },
  {
   "cell_type": "markdown",
   "id": "b14d904515dfdd87",
   "metadata": {},
   "source": [
    "Reading a previously exported `.csv` exhibits surprising behavior."
   ]
  },
  {
   "cell_type": "code",
   "execution_count": null,
   "id": "24df5354fe692343",
   "metadata": {},
   "outputs": [],
   "source": [
    "exported_car_sales = pd.read_csv('exported_car_sales.csv')\n",
    "exported_car_sales"
   ]
  },
  {
   "cell_type": "markdown",
   "id": "e6ada9886cff17f9",
   "metadata": {},
   "source": [
    "That is, reading a `pandas` data frame from a .`csv` file created by\n",
    "exporting a `DataFrame` previously as a `.csv` file \"adds\" a \n",
    "\"additional\" column name \"Unnamed: 0\". \n",
    "\n",
    "This behaviour is simply because of the way we originally \n",
    "**exported** the `DataFrame`.\n",
    "\n",
    "The `DataFrame.to_csv()` method accepts a parameter, `index`.\n",
    "`index` is a boolean parameter: if its value is truthy, the\n",
    "default, `pandas` will include the `Index` in the export.\n",
    "However, if `index` is falsy, the export will **not**\n",
    "contain the data frame `Index`."
   ]
  },
  {
   "cell_type": "code",
   "execution_count": null,
   "id": "779409380c8fa3a4",
   "metadata": {},
   "outputs": [],
   "source": [
    "# Including the optional parameter, `index`, with a falsy value\n",
    "# instructs `to_csv()` to **not** export the `Index` of the \n",
    "# data frame, (I suspect the same parameter could be used \n",
    "# for a `pandas` `Series`, but I could be wrong. :) )\n",
    "\n",
    "# Consequently, reading the exported data **will not** have\n",
    "# the \"mystery\" column (named something like \"Unnamed: 0\".\n",
    "car_sales.to_csv('exported_car_sales.csv', index=False)\n",
    "exported_car_sales = pd.read_csv('exported_car_sales.csv')\n",
    "exported_car_sales"
   ]
  },
  {
   "cell_type": "markdown",
   "id": "163fc9e1-8c23-47d1-9ab0-166a08312165",
   "metadata": {},
   "source": [
    "## Describe data"
   ]
  },
  {
   "cell_type": "code",
   "execution_count": null,
   "id": "6218f433-270f-4f3f-b2e9-4a98c748ec51",
   "metadata": {},
   "outputs": [],
   "source": [
    "# An attribute (basically reads data)\n",
    "car_sales.dtypes\n",
    "\n",
    "# A function executes code.\n",
    "# car_sales.to_csv()"
   ]
  },
  {
   "cell_type": "code",
   "execution_count": null,
   "id": "586cdae0-6e7b-406d-b061-70a3a57f9d99",
   "metadata": {},
   "outputs": [],
   "source": [
    "# Another attribute: the columns of the data frame\n",
    "car_sales.columns"
   ]
  },
  {
   "cell_type": "markdown",
   "id": "de0e5210-6eb7-49bf-9386-1a052149cd87",
   "metadata": {},
   "source": [
    "A `pandas` `Index` is basically a list of values of a specified type"
   ]
  },
  {
   "cell_type": "code",
   "execution_count": null,
   "id": "8c7b4c1f-e064-4215-86c1-19b2f6ffea71",
   "metadata": {},
   "outputs": [],
   "source": [
    "car_columns = car_sales.columns\n",
    "car_columns"
   ]
  },
  {
   "cell_type": "code",
   "execution_count": null,
   "id": "e7d2f2a8-bfd3-41b4-888e-f1380bc09a71",
   "metadata": {},
   "outputs": [],
   "source": [
    "car_columns[0], car_columns[2:-1]"
   ]
  },
  {
   "cell_type": "code",
   "execution_count": null,
   "id": "633d39af-14f5-4f7f-b18a-b1a19ff8bc0f",
   "metadata": {},
   "outputs": [],
   "source": [
    "# What about an `index` property\n",
    "car_sales.index"
   ]
  },
  {
   "cell_type": "code",
   "execution_count": null,
   "id": "7d18b5be-729c-4ec1-b6bd-65483b1922b4",
   "metadata": {},
   "outputs": [],
   "source": [
    "car_sales"
   ]
  },
  {
   "cell_type": "markdown",
   "id": "20527800-23ec-4126-85d7-bc080cdfb58a",
   "metadata": {},
   "source": [
    "### DataFrame functions"
   ]
  },
  {
   "cell_type": "code",
   "execution_count": null,
   "id": "6c7a204a-ba9e-4be0-ace2-310758ec26b5",
   "metadata": {},
   "outputs": [],
   "source": [
    "# Summary statistics about **numeric** fields\n",
    "car_sales.describe()"
   ]
  },
  {
   "cell_type": "markdown",
   "id": "c17fe84f-e196-4e9a-b0fc-f7cee03c5601",
   "metadata": {},
   "source": [
    "Note that the `price` column is of `dtype` `object` (not a number). \n",
    "Because the `price` column is a **non-numeric** column (neither \n",
    "`int` nor `float`, it is **not** included in the summary statistics\n",
    "calculated by `describe()`."
   ]
  },
  {
   "cell_type": "code",
   "execution_count": null,
   "id": "154d7e5e-25cb-429c-a8f5-a6fb83d1cb58",
   "metadata": {},
   "outputs": [],
   "source": [
    "car_sales.info()"
   ]
  },
  {
   "cell_type": "markdown",
   "id": "957dc86e-2642-43e5-bc66-3d222569ebfe",
   "metadata": {},
   "source": [
    "The function `DataFrame.info()` provides a summary of the **data** of\n",
    "each column in the `DataFrame`."
   ]
  },
  {
   "cell_type": "code",
   "execution_count": null,
   "id": "189f5fc6-f640-42e9-a7e6-4a2b4b274ccb",
   "metadata": {},
   "outputs": [],
   "source": [
    "try:\n",
    "    car_sales.mean() # Average of **numeric** columns\n",
    "except:\n",
    "    print('Hmmm. Apparently a change in behavior from the videos.')"
   ]
  },
  {
   "cell_type": "code",
   "execution_count": null,
   "id": "6fce4070-1d28-4278-812f-af7dc01e6e44",
   "metadata": {},
   "outputs": [],
   "source": [
    "car_sales[['Odometer (KM)', 'Doors']].mean()"
   ]
  },
  {
   "cell_type": "markdown",
   "id": "bff9d8a1-d484-447d-8197-c61da0a9f2ed",
   "metadata": {},
   "source": [
    "The function `mean()` also works on appropriate instances\n",
    "of `DataFrame.Series`."
   ]
  },
  {
   "cell_type": "code",
   "execution_count": null,
   "id": "01d89152-ecc4-4212-a24a-2eb7410816cf",
   "metadata": {},
   "outputs": [],
   "source": [
    "# Pretending our car prices are of dtype `int` and not of dtype `object`\n",
    "car_prices = pd.Series([3000, 1500, 111250])\n",
    "car_prices.mean()"
   ]
  },
  {
   "cell_type": "markdown",
   "id": "d74d115f-4ef4-4c9e-a11c-33e5574de201",
   "metadata": {},
   "source": [
    "We can try calling the `sum()` function on the entire `car_sales` \n",
    "`DataFrame`. We have the same \"luck\" as we did with `mean()`"
   ]
  },
  {
   "cell_type": "code",
   "execution_count": null,
   "id": "deaf63a1-e133-4a9c-914f-233a14bf6c7c",
   "metadata": {},
   "outputs": [],
   "source": [
    "try:\n",
    "    car_sales.mean()\n",
    "except:\n",
    "    print('Same issues as `car_sales.sum()`')"
   ]
  },
  {
   "cell_type": "markdown",
   "id": "28e7a44a-f081-4e50-a5b2-8f748c47f1db",
   "metadata": {},
   "source": [
    "And we use the same \"solution\"."
   ]
  },
  {
   "cell_type": "code",
   "execution_count": null,
   "id": "4491563b-bacc-47f3-b170-b74c9f6bb81e",
   "metadata": {},
   "outputs": [],
   "source": [
    "car_sales[['Odometer (KM)', 'Doors']].mean()"
   ]
  },
  {
   "cell_type": "markdown",
   "id": "407127af-c9a6-4b90-b40e-a8ae53dec3e2",
   "metadata": {},
   "source": [
    "The `pandas` package provides \"typical\" statistical functions\n",
    "for numeric columns."
   ]
  },
  {
   "cell_type": "code",
   "execution_count": null,
   "id": "50e7cba9-3398-473b-b365-e131a467eff2",
   "metadata": {},
   "outputs": [],
   "source": [
    "# Extract the column of interest (simply so we need not type it\n",
    "# all the time.\n",
    "mileages = car_sales['Odometer (KM)']\n",
    "mileages.mean(), mileages.median(), mileages.mode()"
   ]
  },
  {
   "cell_type": "markdown",
   "id": "3bddb815-6d04-4875-b99c-01465cb00800",
   "metadata": {},
   "source": [
    "The `len` function returns the number of rows in our data frame."
   ]
  },
  {
   "cell_type": "code",
   "execution_count": null,
   "id": "b0696cee-edf1-439e-9fb8-e958c531a14c",
   "metadata": {},
   "outputs": [],
   "source": [
    "len(car_sales)"
   ]
  },
  {
   "cell_type": "code",
   "execution_count": null,
   "id": "70a93f6c-3e13-4b4d-98b5-26e18e190fdf",
   "metadata": {},
   "outputs": [],
   "source": []
  },
  {
   "cell_type": "code",
   "execution_count": null,
   "id": "c7486b5a-8f9b-4615-9aae-f15c45759015",
   "metadata": {},
   "outputs": [],
   "source": []
  }
 ],
 "metadata": {
  "kernelspec": {
   "display_name": "Python 3 (ipykernel)",
   "language": "python",
   "name": "python3"
  },
  "language_info": {
   "codemirror_mode": {
    "name": "ipython",
    "version": 3
   },
   "file_extension": ".py",
   "mimetype": "text/x-python",
   "name": "python",
   "nbconvert_exporter": "python",
   "pygments_lexer": "ipython3",
   "version": "3.12.3"
  }
 },
 "nbformat": 4,
 "nbformat_minor": 5
}
