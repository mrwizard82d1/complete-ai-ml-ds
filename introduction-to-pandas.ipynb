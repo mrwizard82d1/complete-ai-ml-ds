{
 "cells": [
  {
   "cell_type": "code",
   "execution_count": null,
   "id": "9c497c93-e8c7-4f92-a913-512bc5645bf0",
   "metadata": {},
   "outputs": [],
   "source": [
    "import pandas as pd"
   ]
  },
  {
   "cell_type": "code",
   "execution_count": null,
   "id": "de0531d3-e03a-4a4e-9953-2cc32fc1507e",
   "metadata": {},
   "outputs": [],
   "source": [
    "# 2 main datatypes\n",
    "series = pd.Series(['BMW', 'Toyota', 'Honda'])"
   ]
  },
  {
   "cell_type": "code",
   "execution_count": null,
   "id": "7f3fe074-eb8d-4865-ae6e-328b494f7ed9",
   "metadata": {},
   "outputs": [],
   "source": [
    "series"
   ]
  },
  {
   "cell_type": "code",
   "execution_count": null,
   "id": "c307d65c-507c-488a-b774-de3e7db71b49",
   "metadata": {},
   "outputs": [],
   "source": [
    "# Series are **1**-dimensional"
   ]
  },
  {
   "cell_type": "code",
   "execution_count": null,
   "id": "d889b638-bee9-4208-9892-620692eb6845",
   "metadata": {},
   "outputs": [],
   "source": [
    "colors = pd.Series(['Red', 'Blue', 'White'])\n",
    "colors"
   ]
  },
  {
   "cell_type": "code",
   "execution_count": null,
   "id": "72919faf-a0d6-4f0b-ba38-14c880d5d066",
   "metadata": {},
   "outputs": [],
   "source": [
    "# Dataframe is **2-dimensional**\n",
    "car_data = pd.DataFrame({'Car make': series, 'Color': colors})\n",
    "car_data"
   ]
  },
  {
   "cell_type": "code",
   "execution_count": null,
   "id": "881ffb22-b8a0-4cee-910c-eb409980995f",
   "metadata": {},
   "outputs": [],
   "source": [
    "# Import data\n"
   ]
  }
 ],
 "metadata": {
  "kernelspec": {
   "display_name": "Python 3 (ipykernel)",
   "language": "python",
   "name": "python3"
  },
  "language_info": {
   "codemirror_mode": {
    "name": "ipython",
    "version": 3
   },
   "file_extension": ".py",
   "mimetype": "text/x-python",
   "name": "python",
   "nbconvert_exporter": "python",
   "pygments_lexer": "ipython3",
   "version": "3.12.3"
  }
 },
 "nbformat": 4,
 "nbformat_minor": 5
}
